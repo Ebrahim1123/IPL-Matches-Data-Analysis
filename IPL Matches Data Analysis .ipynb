{
 "cells": [
  {
   "cell_type": "markdown",
   "metadata": {
    "application/vnd.databricks.v1+cell": {
     "inputWidgets": {},
     "nuid": "67ba8917-41ef-4813-9ef1-43ee3ca6f2ac",
     "showTitle": false,
     "title": ""
    }
   },
   "source": [
    "# Data Analysis of IPL[2008-2020]\n",
    "In this project, we are going to analyse several different insights about IPL matches played between 2008-2020 using PySpark and SparkSQL."
   ]
  },
  {
   "cell_type": "markdown",
   "metadata": {},
   "source": [
    "Lets import PySpark and load the datasets"
   ]
  },
  {
   "cell_type": "code",
   "execution_count": 1,
   "metadata": {},
   "outputs": [],
   "source": [
    "import spark\n",
    "import pyspark\n",
    "from pyspark.sql import SparkSession\n",
    "spark = SparkSession \\\n",
    "    .builder \\\n",
    "    .appName(\"\") \\\n",
    "    .getOrCreate()\n",
    "\n",
    "\n",
    "df = spark.read.csv('ipl_ball_by_ball.csv',header=True)\n",
    "df1 = spark.read.csv('ipl_matches.csv',header=True)\n",
    "df2 = spark.read.csv('ipl_venue.csv',header=True)"
   ]
  },
  {
   "cell_type": "markdown",
   "metadata": {},
   "source": [
    "Lets also create SQL tables using dataframes"
   ]
  },
  {
   "cell_type": "code",
   "execution_count": 2,
   "metadata": {},
   "outputs": [
    {
     "data": {
      "text/plain": [
       "DataFrame[venue_id: string, venue: string, city: string]"
      ]
     },
     "execution_count": 2,
     "metadata": {},
     "output_type": "execute_result"
    }
   ],
   "source": [
    "df.createOrReplaceTempView(\"balls\")\n",
    "spark.sql(\n",
    "\"\"\"\n",
    "select * from balls\n",
    "\"\"\"\n",
    ")\n",
    "\n",
    "df1.createOrReplaceTempView(\"matches\")\n",
    "spark.sql(\n",
    "\"\"\"\n",
    "select * from matches\n",
    "\"\"\"\n",
    ")\n",
    "\n",
    "df2.createOrReplaceTempView(\"venue\")\n",
    "spark.sql(\n",
    "\"\"\"\n",
    "select * from venue\n",
    "\"\"\"\n",
    ")"
   ]
  },
  {
   "cell_type": "markdown",
   "metadata": {},
   "source": [
    "# Lets look at dataset first"
   ]
  },
  {
   "cell_type": "code",
   "execution_count": 3,
   "metadata": {},
   "outputs": [
    {
     "name": "stdout",
     "output_type": "stream",
     "text": [
      "-RECORD 0--------------------------------\n",
      " match_id         | 419157               \n",
      " inning           | 2                    \n",
      " overs            | 16                   \n",
      " ball             | 4                    \n",
      " batsman          | V Kohli              \n",
      " non_striker      | R Vinay Kumar        \n",
      " bowler           | CRD Fernando         \n",
      " batsman_runs     | 0                    \n",
      " extra_runs       | 0                    \n",
      " total_runs       | 0                    \n",
      " non_boundary     | 0                    \n",
      " is_wicket        | 0                    \n",
      " dismissal_kind   | NA                   \n",
      " player_dismissed | NA                   \n",
      " fielder          | NA                   \n",
      " extras_type      | NA                   \n",
      " batting_team     | Royal Challengers... \n",
      " bowling_team     | Mumbai Indians       \n",
      "-RECORD 1--------------------------------\n",
      " match_id         | 419157               \n",
      " inning           | 2                    \n",
      " overs            | 16                   \n",
      " ball             | 5                    \n",
      " batsman          | V Kohli              \n",
      " non_striker      | R Vinay Kumar        \n",
      " bowler           | CRD Fernando         \n",
      " batsman_runs     | 1                    \n",
      " extra_runs       | 0                    \n",
      " total_runs       | 1                    \n",
      " non_boundary     | 0                    \n",
      " is_wicket        | 0                    \n",
      " dismissal_kind   | NA                   \n",
      " player_dismissed | NA                   \n",
      " fielder          | NA                   \n",
      " extras_type      | NA                   \n",
      " batting_team     | Royal Challengers... \n",
      " bowling_team     | Mumbai Indians       \n",
      "-RECORD 2--------------------------------\n",
      " match_id         | 419157               \n",
      " inning           | 2                    \n",
      " overs            | 16                   \n",
      " ball             | 6                    \n",
      " batsman          | R Vinay Kumar        \n",
      " non_striker      | V Kohli              \n",
      " bowler           | CRD Fernando         \n",
      " batsman_runs     | 1                    \n",
      " extra_runs       | 0                    \n",
      " total_runs       | 1                    \n",
      " non_boundary     | 0                    \n",
      " is_wicket        | 0                    \n",
      " dismissal_kind   | NA                   \n",
      " player_dismissed | NA                   \n",
      " fielder          | NA                   \n",
      " extras_type      | NA                   \n",
      " batting_team     | Royal Challengers... \n",
      " bowling_team     | Mumbai Indians       \n",
      "-RECORD 3--------------------------------\n",
      " match_id         | 419157               \n",
      " inning           | 2                    \n",
      " overs            | 17                   \n",
      " ball             | 1                    \n",
      " batsman          | R Vinay Kumar        \n",
      " non_striker      | V Kohli              \n",
      " bowler           | R McLaren            \n",
      " batsman_runs     | 1                    \n",
      " extra_runs       | 0                    \n",
      " total_runs       | 1                    \n",
      " non_boundary     | 0                    \n",
      " is_wicket        | 0                    \n",
      " dismissal_kind   | NA                   \n",
      " player_dismissed | NA                   \n",
      " fielder          | NA                   \n",
      " extras_type      | NA                   \n",
      " batting_team     | Royal Challengers... \n",
      " bowling_team     | Mumbai Indians       \n",
      "-RECORD 4--------------------------------\n",
      " match_id         | 419157               \n",
      " inning           | 2                    \n",
      " overs            | 17                   \n",
      " ball             | 2                    \n",
      " batsman          | V Kohli              \n",
      " non_striker      | R Vinay Kumar        \n",
      " bowler           | R McLaren            \n",
      " batsman_runs     | 1                    \n",
      " extra_runs       | 0                    \n",
      " total_runs       | 1                    \n",
      " non_boundary     | 0                    \n",
      " is_wicket        | 0                    \n",
      " dismissal_kind   | NA                   \n",
      " player_dismissed | NA                   \n",
      " fielder          | NA                   \n",
      " extras_type      | NA                   \n",
      " batting_team     | Royal Challengers... \n",
      " bowling_team     | Mumbai Indians       \n",
      "-RECORD 5--------------------------------\n",
      " match_id         | 419157               \n",
      " inning           | 2                    \n",
      " overs            | 17                   \n",
      " ball             | 3                    \n",
      " batsman          | R Vinay Kumar        \n",
      " non_striker      | V Kohli              \n",
      " bowler           | R McLaren            \n",
      " batsman_runs     | 0                    \n",
      " extra_runs       | 0                    \n",
      " total_runs       | 0                    \n",
      " non_boundary     | 0                    \n",
      " is_wicket        | 0                    \n",
      " dismissal_kind   | NA                   \n",
      " player_dismissed | NA                   \n",
      " fielder          | NA                   \n",
      " extras_type      | NA                   \n",
      " batting_team     | Royal Challengers... \n",
      " bowling_team     | Mumbai Indians       \n",
      "-RECORD 6--------------------------------\n",
      " match_id         | 419157               \n",
      " inning           | 2                    \n",
      " overs            | 17                   \n",
      " ball             | 4                    \n",
      " batsman          | R Vinay Kumar        \n",
      " non_striker      | V Kohli              \n",
      " bowler           | R McLaren            \n",
      " batsman_runs     | 0                    \n",
      " extra_runs       | 0                    \n",
      " total_runs       | 0                    \n",
      " non_boundary     | 0                    \n",
      " is_wicket        | 0                    \n",
      " dismissal_kind   | NA                   \n",
      " player_dismissed | NA                   \n",
      " fielder          | NA                   \n",
      " extras_type      | NA                   \n",
      " batting_team     | Royal Challengers... \n",
      " bowling_team     | Mumbai Indians       \n",
      "-RECORD 7--------------------------------\n",
      " match_id         | 419157               \n",
      " inning           | 2                    \n",
      " overs            | 17                   \n",
      " ball             | 5                    \n",
      " batsman          | R Vinay Kumar        \n",
      " non_striker      | V Kohli              \n",
      " bowler           | R McLaren            \n",
      " batsman_runs     | 1                    \n",
      " extra_runs       | 0                    \n",
      " total_runs       | 1                    \n",
      " non_boundary     | 0                    \n",
      " is_wicket        | 0                    \n",
      " dismissal_kind   | NA                   \n",
      " player_dismissed | NA                   \n",
      " fielder          | NA                   \n",
      " extras_type      | NA                   \n",
      " batting_team     | Royal Challengers... \n",
      " bowling_team     | Mumbai Indians       \n",
      "-RECORD 8--------------------------------\n",
      " match_id         | 419157               \n",
      " inning           | 2                    \n",
      " overs            | 17                   \n",
      " ball             | 6                    \n",
      " batsman          | V Kohli              \n",
      " non_striker      | R Vinay Kumar        \n",
      " bowler           | R McLaren            \n",
      " batsman_runs     | 1                    \n",
      " extra_runs       | 0                    \n",
      " total_runs       | 1                    \n",
      " non_boundary     | 0                    \n",
      " is_wicket        | 0                    \n",
      " dismissal_kind   | NA                   \n",
      " player_dismissed | NA                   \n",
      " fielder          | NA                   \n",
      " extras_type      | NA                   \n",
      " batting_team     | Royal Challengers... \n",
      " bowling_team     | Mumbai Indians       \n",
      "-RECORD 9--------------------------------\n",
      " match_id         | 419157               \n",
      " inning           | 2                    \n",
      " overs            | 18                   \n",
      " ball             | 1                    \n",
      " batsman          | V Kohli              \n",
      " non_striker      | R Vinay Kumar        \n",
      " bowler           | KA Pollard           \n",
      " batsman_runs     | 4                    \n",
      " extra_runs       | 0                    \n",
      " total_runs       | 4                    \n",
      " non_boundary     | 0                    \n",
      " is_wicket        | 0                    \n",
      " dismissal_kind   | NA                   \n",
      " player_dismissed | NA                   \n",
      " fielder          | NA                   \n",
      " extras_type      | NA                   \n",
      " batting_team     | Royal Challengers... \n",
      " bowling_team     | Mumbai Indians       \n",
      "-RECORD 10-------------------------------\n",
      " match_id         | 419157               \n",
      " inning           | 2                    \n",
      " overs            | 18                   \n",
      " ball             | 2                    \n",
      " batsman          | V Kohli              \n",
      " non_striker      | R Vinay Kumar        \n",
      " bowler           | KA Pollard           \n",
      " batsman_runs     | 0                    \n",
      " extra_runs       | 0                    \n",
      " total_runs       | 0                    \n",
      " non_boundary     | 0                    \n",
      " is_wicket        | 1                    \n",
      " dismissal_kind   | caught               \n",
      " player_dismissed | V Kohli              \n",
      " fielder          | AP Tare              \n",
      " extras_type      | NA                   \n",
      " batting_team     | Royal Challengers... \n",
      " bowling_team     | Mumbai Indians       \n",
      "-RECORD 11-------------------------------\n",
      " match_id         | 419157               \n",
      " inning           | 2                    \n",
      " overs            | 18                   \n",
      " ball             | 3                    \n",
      " batsman          | R Vinay Kumar        \n",
      " non_striker      | Pankaj Singh         \n",
      " bowler           | KA Pollard           \n",
      " batsman_runs     | 0                    \n",
      " extra_runs       | 1                    \n",
      " total_runs       | 1                    \n",
      " non_boundary     | 0                    \n",
      " is_wicket        | 0                    \n",
      " dismissal_kind   | NA                   \n",
      " player_dismissed | NA                   \n",
      " fielder          | NA                   \n",
      " extras_type      | wides                \n",
      " batting_team     | Royal Challengers... \n",
      " bowling_team     | Mumbai Indians       \n",
      "-RECORD 12-------------------------------\n",
      " match_id         | 419157               \n",
      " inning           | 2                    \n",
      " overs            | 18                   \n",
      " ball             | 4                    \n",
      " batsman          | R Vinay Kumar        \n",
      " non_striker      | Pankaj Singh         \n",
      " bowler           | KA Pollard           \n",
      " batsman_runs     | 1                    \n",
      " extra_runs       | 0                    \n",
      " total_runs       | 1                    \n",
      " non_boundary     | 0                    \n",
      " is_wicket        | 0                    \n",
      " dismissal_kind   | NA                   \n",
      " player_dismissed | NA                   \n",
      " fielder          | NA                   \n",
      " extras_type      | NA                   \n",
      " batting_team     | Royal Challengers... \n",
      " bowling_team     | Mumbai Indians       \n",
      "-RECORD 13-------------------------------\n",
      " match_id         | 419157               \n",
      " inning           | 2                    \n",
      " overs            | 18                   \n",
      " ball             | 5                    \n",
      " batsman          | Pankaj Singh         \n",
      " non_striker      | R Vinay Kumar        \n",
      " bowler           | KA Pollard           \n",
      " batsman_runs     | 1                    \n",
      " extra_runs       | 0                    \n",
      " total_runs       | 1                    \n",
      " non_boundary     | 0                    \n",
      " is_wicket        | 0                    \n",
      " dismissal_kind   | NA                   \n",
      " player_dismissed | NA                   \n",
      " fielder          | NA                   \n",
      " extras_type      | NA                   \n",
      " batting_team     | Royal Challengers... \n",
      " bowling_team     | Mumbai Indians       \n",
      "-RECORD 14-------------------------------\n",
      " match_id         | 419157               \n",
      " inning           | 2                    \n",
      " overs            | 18                   \n",
      " ball             | 6                    \n",
      " batsman          | R Vinay Kumar        \n",
      " non_striker      | Pankaj Singh         \n",
      " bowler           | KA Pollard           \n",
      " batsman_runs     | 1                    \n",
      " extra_runs       | 0                    \n",
      " total_runs       | 1                    \n",
      " non_boundary     | 0                    \n",
      " is_wicket        | 0                    \n",
      " dismissal_kind   | NA                   \n",
      " player_dismissed | NA                   \n",
      " fielder          | NA                   \n",
      " extras_type      | NA                   \n",
      " batting_team     | Royal Challengers... \n",
      " bowling_team     | Mumbai Indians       \n",
      "-RECORD 15-------------------------------\n",
      " match_id         | 419157               \n",
      " inning           | 2                    \n",
      " overs            | 18                   \n",
      " ball             | 7                    \n",
      " batsman          | Pankaj Singh         \n",
      " non_striker      | R Vinay Kumar        \n",
      " bowler           | KA Pollard           \n",
      " batsman_runs     | 0                    \n",
      " extra_runs       | 0                    \n",
      " total_runs       | 0                    \n",
      " non_boundary     | 0                    \n",
      " is_wicket        | 1                    \n",
      " dismissal_kind   | caught               \n",
      " player_dismissed | Pankaj Singh         \n",
      " fielder          | Z Khan               \n",
      " extras_type      | NA                   \n",
      " batting_team     | Royal Challengers... \n",
      " bowling_team     | Mumbai Indians       \n",
      "-RECORD 16-------------------------------\n",
      " match_id         | 419157               \n",
      " inning           | 2                    \n",
      " overs            | 19                   \n",
      " ball             | 1                    \n",
      " batsman          | A Kumble             \n",
      " non_striker      | R Vinay Kumar        \n",
      " bowler           | R McLaren            \n",
      " batsman_runs     | 0                    \n",
      " extra_runs       | 0                    \n",
      " total_runs       | 0                    \n",
      " non_boundary     | 0                    \n",
      " is_wicket        | 0                    \n",
      " dismissal_kind   | NA                   \n",
      " player_dismissed | NA                   \n",
      " fielder          | NA                   \n",
      " extras_type      | NA                   \n",
      " batting_team     | Royal Challengers... \n",
      " bowling_team     | Mumbai Indians       \n",
      "-RECORD 17-------------------------------\n",
      " match_id         | 419157               \n",
      " inning           | 1                    \n",
      " overs            | 0                    \n",
      " ball             | 1                    \n",
      " batsman          | R McLaren            \n",
      " non_striker      | SR Tendulkar         \n",
      " bowler           | DW Steyn             \n",
      " batsman_runs     | 1                    \n",
      " extra_runs       | 0                    \n",
      " total_runs       | 1                    \n",
      " non_boundary     | 0                    \n",
      " is_wicket        | 0                    \n",
      " dismissal_kind   | NA                   \n",
      " player_dismissed | NA                   \n",
      " fielder          | NA                   \n",
      " extras_type      | NA                   \n",
      " batting_team     | Mumbai Indians       \n",
      " bowling_team     | Royal Challengers... \n",
      "-RECORD 18-------------------------------\n",
      " match_id         | 419157               \n",
      " inning           | 1                    \n",
      " overs            | 0                    \n",
      " ball             | 2                    \n",
      " batsman          | SR Tendulkar         \n",
      " non_striker      | R McLaren            \n",
      " bowler           | DW Steyn             \n",
      " batsman_runs     | 0                    \n",
      " extra_runs       | 0                    \n",
      " total_runs       | 0                    \n",
      " non_boundary     | 0                    \n",
      " is_wicket        | 0                    \n",
      " dismissal_kind   | NA                   \n",
      " player_dismissed | NA                   \n",
      " fielder          | NA                   \n",
      " extras_type      | NA                   \n",
      " batting_team     | Mumbai Indians       \n",
      " bowling_team     | Royal Challengers... \n",
      "-RECORD 19-------------------------------\n",
      " match_id         | 419157               \n",
      " inning           | 1                    \n",
      " overs            | 0                    \n",
      " ball             | 3                    \n",
      " batsman          | SR Tendulkar         \n",
      " non_striker      | R McLaren            \n",
      " bowler           | DW Steyn             \n",
      " batsman_runs     | 1                    \n",
      " extra_runs       | 0                    \n",
      " total_runs       | 1                    \n",
      " non_boundary     | 0                    \n",
      " is_wicket        | 0                    \n",
      " dismissal_kind   | NA                   \n",
      " player_dismissed | NA                   \n",
      " fielder          | NA                   \n",
      " extras_type      | NA                   \n",
      " batting_team     | Mumbai Indians       \n",
      " bowling_team     | Royal Challengers... \n",
      "only showing top 20 rows\n",
      "\n"
     ]
    }
   ],
   "source": [
    "df.show(vertical=True)"
   ]
  },
  {
   "cell_type": "code",
   "execution_count": 4,
   "metadata": {},
   "outputs": [
    {
     "name": "stdout",
     "output_type": "stream",
     "text": [
      "-RECORD 0-------------------------------\n",
      " match_id        | 335982               \n",
      " date            | 2008-04-18           \n",
      " player_of_match | BB McCullum          \n",
      " venue_id        | 35                   \n",
      " neutral_venue   | 0                    \n",
      " team1           | Royal Challengers... \n",
      " team2           | Kolkata Knight Ri... \n",
      " toss_winner     | Royal Challengers... \n",
      " toss_decision   | field                \n",
      " winner          | Kolkata Knight Ri... \n",
      " result          | runs                 \n",
      " result_margin   | 140                  \n",
      " eliminator      | N                    \n",
      " method          | NA                   \n",
      " umpire1         | Asad Rauf            \n",
      " umpire2         | RE Koertzen          \n",
      "-RECORD 1-------------------------------\n",
      " match_id        | 335983               \n",
      " date            | 2008-04-19           \n",
      " player_of_match | MEK Hussey           \n",
      " venue_id        | 31                   \n",
      " neutral_venue   | 0                    \n",
      " team1           | Kings XI Punjab      \n",
      " team2           | Chennai Super Kings  \n",
      " toss_winner     | Chennai Super Kings  \n",
      " toss_decision   | bat                  \n",
      " winner          | Chennai Super Kings  \n",
      " result          | runs                 \n",
      " result_margin   | 33                   \n",
      " eliminator      | N                    \n",
      " method          | NA                   \n",
      " umpire1         | MR Benson            \n",
      " umpire2         | SL Shastri           \n",
      "-RECORD 2-------------------------------\n",
      " match_id        | 335984               \n",
      " date            | 2008-04-19           \n",
      " player_of_match | MF Maharoof          \n",
      " venue_id        | 27                   \n",
      " neutral_venue   | 0                    \n",
      " team1           | Delhi Daredevils     \n",
      " team2           | Rajasthan Royals     \n",
      " toss_winner     | Rajasthan Royals     \n",
      " toss_decision   | bat                  \n",
      " winner          | Delhi Daredevils     \n",
      " result          | wickets              \n",
      " result_margin   | 9                    \n",
      " eliminator      | N                    \n",
      " method          | NA                   \n",
      " umpire1         | Aleem Dar            \n",
      " umpire2         | GA Pratapkumar       \n",
      "-RECORD 3-------------------------------\n",
      " match_id        | 335985               \n",
      " date            | 2008-04-20           \n",
      " player_of_match | MV Boucher           \n",
      " venue_id        | 14                   \n",
      " neutral_venue   | 0                    \n",
      " team1           | Mumbai Indians       \n",
      " team2           | Royal Challengers... \n",
      " toss_winner     | Mumbai Indians       \n",
      " toss_decision   | bat                  \n",
      " winner          | Royal Challengers... \n",
      " result          | wickets              \n",
      " result_margin   | 5                    \n",
      " eliminator      | N                    \n",
      " method          | NA                   \n",
      " umpire1         | SJ Davis             \n",
      " umpire2         | DJ Harper            \n",
      "-RECORD 4-------------------------------\n",
      " match_id        | 335986               \n",
      " date            | 2008-04-20           \n",
      " player_of_match | DJ Hussey            \n",
      " venue_id        | 15                   \n",
      " neutral_venue   | 0                    \n",
      " team1           | Kolkata Knight Ri... \n",
      " team2           | Deccan Chargers      \n",
      " toss_winner     | Deccan Chargers      \n",
      " toss_decision   | bat                  \n",
      " winner          | Kolkata Knight Ri... \n",
      " result          | wickets              \n",
      " result_margin   | 5                    \n",
      " eliminator      | N                    \n",
      " method          | NA                   \n",
      " umpire1         | BF Bowden            \n",
      " umpire2         | K Hariharan          \n",
      "-RECORD 5-------------------------------\n",
      " match_id        | 335987               \n",
      " date            | 2008-04-21           \n",
      " player_of_match | SR Watson            \n",
      " venue_id        | 20                   \n",
      " neutral_venue   | 0                    \n",
      " team1           | Rajasthan Royals     \n",
      " team2           | Kings XI Punjab      \n",
      " toss_winner     | Kings XI Punjab      \n",
      " toss_decision   | bat                  \n",
      " winner          | Rajasthan Royals     \n",
      " result          | wickets              \n",
      " result_margin   | 6                    \n",
      " eliminator      | N                    \n",
      " method          | NA                   \n",
      " umpire1         | Aleem Dar            \n",
      " umpire2         | RB Tiffin            \n",
      "-RECORD 6-------------------------------\n",
      " match_id        | 335988               \n",
      " date            | 2008-04-22           \n",
      " player_of_match | V Sehwag             \n",
      " venue_id        | 22                   \n",
      " neutral_venue   | 0                    \n",
      " team1           | Deccan Chargers      \n",
      " team2           | Delhi Daredevils     \n",
      " toss_winner     | Deccan Chargers      \n",
      " toss_decision   | bat                  \n",
      " winner          | Delhi Daredevils     \n",
      " result          | wickets              \n",
      " result_margin   | 9                    \n",
      " eliminator      | N                    \n",
      " method          | NA                   \n",
      " umpire1         | IL Howell            \n",
      " umpire2         | AM Saheba            \n",
      "-RECORD 7-------------------------------\n",
      " match_id        | 335989               \n",
      " date            | 2008-04-23           \n",
      " player_of_match | ML Hayden            \n",
      " venue_id        | 29                   \n",
      " neutral_venue   | 0                    \n",
      " team1           | Chennai Super Kings  \n",
      " team2           | Mumbai Indians       \n",
      " toss_winner     | Mumbai Indians       \n",
      " toss_decision   | field                \n",
      " winner          | Chennai Super Kings  \n",
      " result          | runs                 \n",
      " result_margin   | 6                    \n",
      " eliminator      | N                    \n",
      " method          | NA                   \n",
      " umpire1         | DJ Harper            \n",
      " umpire2         | GA Pratapkumar       \n",
      "-RECORD 8-------------------------------\n",
      " match_id        | 335990               \n",
      " date            | 2008-04-24           \n",
      " player_of_match | YK Pathan            \n",
      " venue_id        | 22                   \n",
      " neutral_venue   | 0                    \n",
      " team1           | Deccan Chargers      \n",
      " team2           | Rajasthan Royals     \n",
      " toss_winner     | Rajasthan Royals     \n",
      " toss_decision   | field                \n",
      " winner          | Rajasthan Royals     \n",
      " result          | wickets              \n",
      " result_margin   | 3                    \n",
      " eliminator      | N                    \n",
      " method          | NA                   \n",
      " umpire1         | Asad Rauf            \n",
      " umpire2         | MR Benson            \n",
      "-RECORD 9-------------------------------\n",
      " match_id        | 335991               \n",
      " date            | 2008-04-25           \n",
      " player_of_match | KC Sangakkara        \n",
      " venue_id        | 31                   \n",
      " neutral_venue   | 0                    \n",
      " team1           | Kings XI Punjab      \n",
      " team2           | Mumbai Indians       \n",
      " toss_winner     | Mumbai Indians       \n",
      " toss_decision   | field                \n",
      " winner          | Kings XI Punjab      \n",
      " result          | runs                 \n",
      " result_margin   | 66                   \n",
      " eliminator      | N                    \n",
      " method          | NA                   \n",
      " umpire1         | Aleem Dar            \n",
      " umpire2         | AM Saheba            \n",
      "-RECORD 10------------------------------\n",
      " match_id        | 335992               \n",
      " date            | 2008-04-26           \n",
      " player_of_match | SR Watson            \n",
      " venue_id        | 35                   \n",
      " neutral_venue   | 0                    \n",
      " team1           | Royal Challengers... \n",
      " team2           | Rajasthan Royals     \n",
      " toss_winner     | Rajasthan Royals     \n",
      " toss_decision   | field                \n",
      " winner          | Rajasthan Royals     \n",
      " result          | wickets              \n",
      " result_margin   | 7                    \n",
      " eliminator      | N                    \n",
      " method          | NA                   \n",
      " umpire1         | MR Benson            \n",
      " umpire2         | IL Howell            \n",
      "-RECORD 11------------------------------\n",
      " match_id        | 335993               \n",
      " date            | 2008-04-26           \n",
      " player_of_match | JDP Oram             \n",
      " venue_id        | 29                   \n",
      " neutral_venue   | 0                    \n",
      " team1           | Chennai Super Kings  \n",
      " team2           | Kolkata Knight Ri... \n",
      " toss_winner     | Kolkata Knight Ri... \n",
      " toss_decision   | bat                  \n",
      " winner          | Chennai Super Kings  \n",
      " result          | wickets              \n",
      " result_margin   | 9                    \n",
      " eliminator      | N                    \n",
      " method          | NA                   \n",
      " umpire1         | BF Bowden            \n",
      " umpire2         | AV Jayaprakash       \n",
      "-RECORD 12------------------------------\n",
      " match_id        | 335994               \n",
      " date            | 2008-04-27           \n",
      " player_of_match | AC Gilchrist         \n",
      " venue_id        | 13                   \n",
      " neutral_venue   | 0                    \n",
      " team1           | Mumbai Indians       \n",
      " team2           | Deccan Chargers      \n",
      " toss_winner     | Deccan Chargers      \n",
      " toss_decision   | field                \n",
      " winner          | Deccan Chargers      \n",
      " result          | wickets              \n",
      " result_margin   | 10                   \n",
      " eliminator      | N                    \n",
      " method          | NA                   \n",
      " umpire1         | Asad Rauf            \n",
      " umpire2         | SL Shastri           \n",
      "-RECORD 13------------------------------\n",
      " match_id        | 335995               \n",
      " date            | 2008-04-27           \n",
      " player_of_match | SM Katich            \n",
      " venue_id        | 31                   \n",
      " neutral_venue   | 0                    \n",
      " team1           | Kings XI Punjab      \n",
      " team2           | Delhi Daredevils     \n",
      " toss_winner     | Delhi Daredevils     \n",
      " toss_decision   | bat                  \n",
      " winner          | Kings XI Punjab      \n",
      " result          | wickets              \n",
      " result_margin   | 4                    \n",
      " eliminator      | N                    \n",
      " method          | NA                   \n",
      " umpire1         | RE Koertzen          \n",
      " umpire2         | I Shivram            \n",
      "-RECORD 14------------------------------\n",
      " match_id        | 335996               \n",
      " date            | 2008-04-28           \n",
      " player_of_match | MS Dhoni             \n",
      " venue_id        | 35                   \n",
      " neutral_venue   | 0                    \n",
      " team1           | Royal Challengers... \n",
      " team2           | Chennai Super Kings  \n",
      " toss_winner     | Chennai Super Kings  \n",
      " toss_decision   | bat                  \n",
      " winner          | Chennai Super Kings  \n",
      " result          | runs                 \n",
      " result_margin   | 13                   \n",
      " eliminator      | N                    \n",
      " method          | NA                   \n",
      " umpire1         | BR Doctrove          \n",
      " umpire2         | RB Tiffin            \n",
      "-RECORD 15------------------------------\n",
      " match_id        | 335997               \n",
      " date            | 2008-04-29           \n",
      " player_of_match | ST Jayasuriya        \n",
      " venue_id        | 15                   \n",
      " neutral_venue   | 0                    \n",
      " team1           | Kolkata Knight Ri... \n",
      " team2           | Mumbai Indians       \n",
      " toss_winner     | Kolkata Knight Ri... \n",
      " toss_decision   | bat                  \n",
      " winner          | Mumbai Indians       \n",
      " result          | wickets              \n",
      " result_margin   | 7                    \n",
      " eliminator      | N                    \n",
      " method          | NA                   \n",
      " umpire1         | BF Bowden            \n",
      " umpire2         | AV Jayaprakash       \n",
      "-RECORD 16------------------------------\n",
      " match_id        | 335998               \n",
      " date            | 2008-04-30           \n",
      " player_of_match | GD McGrath           \n",
      " venue_id        | 27                   \n",
      " neutral_venue   | 0                    \n",
      " team1           | Delhi Daredevils     \n",
      " team2           | Royal Challengers... \n",
      " toss_winner     | Royal Challengers... \n",
      " toss_decision   | field                \n",
      " winner          | Delhi Daredevils     \n",
      " result          | runs                 \n",
      " result_margin   | 10                   \n",
      " eliminator      | N                    \n",
      " method          | NA                   \n",
      " umpire1         | Aleem Dar            \n",
      " umpire2         | I Shivram            \n",
      "-RECORD 17------------------------------\n",
      " match_id        | 335999               \n",
      " date            | 2008-05-01           \n",
      " player_of_match | SE Marsh             \n",
      " venue_id        | 22                   \n",
      " neutral_venue   | 0                    \n",
      " team1           | Deccan Chargers      \n",
      " team2           | Kings XI Punjab      \n",
      " toss_winner     | Kings XI Punjab      \n",
      " toss_decision   | field                \n",
      " winner          | Kings XI Punjab      \n",
      " result          | wickets              \n",
      " result_margin   | 7                    \n",
      " eliminator      | N                    \n",
      " method          | NA                   \n",
      " umpire1         | BR Doctrove          \n",
      " umpire2         | RB Tiffin            \n",
      "-RECORD 18------------------------------\n",
      " match_id        | 336000               \n",
      " date            | 2008-05-01           \n",
      " player_of_match | SA Asnodkar          \n",
      " venue_id        | 20                   \n",
      " neutral_venue   | 0                    \n",
      " team1           | Rajasthan Royals     \n",
      " team2           | Kolkata Knight Ri... \n",
      " toss_winner     | Rajasthan Royals     \n",
      " toss_decision   | bat                  \n",
      " winner          | Rajasthan Royals     \n",
      " result          | runs                 \n",
      " result_margin   | 45                   \n",
      " eliminator      | N                    \n",
      " method          | NA                   \n",
      " umpire1         | RE Koertzen          \n",
      " umpire2         | GA Pratapkumar       \n",
      "-RECORD 19------------------------------\n",
      " match_id        | 336001               \n",
      " date            | 2008-05-02           \n",
      " player_of_match | V Sehwag             \n",
      " venue_id        | 29                   \n",
      " neutral_venue   | 0                    \n",
      " team1           | Chennai Super Kings  \n",
      " team2           | Delhi Daredevils     \n",
      " toss_winner     | Chennai Super Kings  \n",
      " toss_decision   | bat                  \n",
      " winner          | Delhi Daredevils     \n",
      " result          | wickets              \n",
      " result_margin   | 8                    \n",
      " eliminator      | N                    \n",
      " method          | NA                   \n",
      " umpire1         | BF Bowden            \n",
      " umpire2         | K Hariharan          \n",
      "only showing top 20 rows\n",
      "\n"
     ]
    }
   ],
   "source": [
    "df1.show(vertical=True)"
   ]
  },
  {
   "cell_type": "code",
   "execution_count": 5,
   "metadata": {},
   "outputs": [
    {
     "name": "stdout",
     "output_type": "stream",
     "text": [
      "+--------+--------------------+--------------+\n",
      "|venue_id|               venue|          city|\n",
      "+--------+--------------------+--------------+\n",
      "|       1|Dr. Y.S. Rajasekh...| Visakhapatnam|\n",
      "|       2|Sharjah Cricket S...|       Sharjah|\n",
      "|       3|JSCA Internationa...|        Ranchi|\n",
      "|       4|Saurashtra Cricke...|        Rajkot|\n",
      "|       5|Shaheed Veer Nara...|        Raipur|\n",
      "|       6|Maharashtra Crick...|          Pune|\n",
      "|       7|Subrata Roy Sahar...|          Pune|\n",
      "|       8|    St George's Park|Port Elizabeth|\n",
      "|       9|Vidarbha Cricket ...|        Nagpur|\n",
      "|      12|   Brabourne Stadium|        Mumbai|\n",
      "|      13|Dr DY Patil Sport...|        Mumbai|\n",
      "|      14|    Wankhede Stadium|        Mumbai|\n",
      "|      15|        Eden Gardens|       Kolkata|\n",
      "|      16|       Nehru Stadium|         Kochi|\n",
      "|      17|De Beers Diamond ...|     Kimberley|\n",
      "|      18|          Green Park|        Kanpur|\n",
      "|      19|New Wanderers Sta...|  Johannesburg|\n",
      "|      20|Sawai Mansingh St...|        Jaipur|\n",
      "|      21|Holkar Cricket St...|        Indore|\n",
      "|      22|Rajiv Gandhi Inte...|     Hyderabad|\n",
      "+--------+--------------------+--------------+\n",
      "only showing top 20 rows\n",
      "\n"
     ]
    }
   ],
   "source": [
    "df2.show()"
   ]
  },
  {
   "cell_type": "markdown",
   "metadata": {},
   "source": [
    "# Data Preparation and Cleaning"
   ]
  },
  {
   "cell_type": "markdown",
   "metadata": {},
   "source": [
    "Lets convert some columns to integer type  "
   ]
  },
  {
   "cell_type": "code",
   "execution_count": 6,
   "metadata": {
    "application/vnd.databricks.v1+cell": {
     "inputWidgets": {},
     "nuid": "da1359f0-50d3-4911-835b-6e2ecf44e59c",
     "showTitle": false,
     "title": ""
    }
   },
   "outputs": [],
   "source": [
    "from pyspark.sql.types import IntegerType\n",
    "df = df.withColumn(\"is_wicket\", df[\"is_wicket\"].cast(IntegerType()))\n",
    "df = df.withColumn(\"batsman_runs\", df[\"batsman_runs\"].cast(IntegerType()))\n",
    "df = df.withColumn(\"extra_runs\", df[\"extra_runs\"].cast(IntegerType()))\n",
    "df = df.withColumn(\"total_runs\", df[\"total_runs\"].cast(IntegerType()))\n"
   ]
  },
  {
   "cell_type": "markdown",
   "metadata": {},
   "source": [
    "Lets look out summary of our the data"
   ]
  },
  {
   "cell_type": "code",
   "execution_count": 7,
   "metadata": {},
   "outputs": [
    {
     "name": "stdout",
     "output_type": "stream",
     "text": [
      "-RECORD 0--------------------------------\n",
      " summary          | count                \n",
      " match_id         | 193468               \n",
      " inning           | 193468               \n",
      " overs            | 193468               \n",
      " ball             | 193468               \n",
      " batsman          | 193468               \n",
      " non_striker      | 193468               \n",
      " bowler           | 193468               \n",
      " batsman_runs     | 193468               \n",
      " extra_runs       | 193468               \n",
      " total_runs       | 193468               \n",
      " non_boundary     | 193468               \n",
      " is_wicket        | 193468               \n",
      " dismissal_kind   | 193468               \n",
      " player_dismissed | 193468               \n",
      " fielder          | 193468               \n",
      " extras_type      | 193468               \n",
      " batting_team     | 193468               \n",
      " bowling_team     | 193468               \n",
      "-RECORD 1--------------------------------\n",
      " summary          | mean                 \n",
      " match_id         | 756768.8084386048    \n",
      " inning           | 1.4821314119130813   \n",
      " overs            | 9.17702669175264     \n",
      " ball             | 3.615967498501044    \n",
      " batsman          | null                 \n",
      " non_striker      | null                 \n",
      " bowler           | null                 \n",
      " batsman_runs     | 1.2402309425848201   \n",
      " extra_runs       | 0.06641408398288089  \n",
      " total_runs       | 1.3066450265677012   \n",
      " non_boundary     | 8.270101515496103E-5 \n",
      " is_wicket        | 0.049077883681022186 \n",
      " dismissal_kind   | null                 \n",
      " player_dismissed | null                 \n",
      " fielder          | null                 \n",
      " extras_type      | null                 \n",
      " batting_team     | null                 \n",
      " bowling_team     | null                 \n",
      "-RECORD 2--------------------------------\n",
      " summary          | stddev               \n",
      " match_id         | 306097.0914176296    \n",
      " inning           | 0.49968190293373765  \n",
      " overs            | 5.676847894661747    \n",
      " ball             | 1.8071276073795604   \n",
      " batsman          | null                 \n",
      " non_striker      | null                 \n",
      " bowler           | null                 \n",
      " batsman_runs     | 1.6108665520479715   \n",
      " extra_runs       | 0.3399913362666672   \n",
      " total_runs       | 1.5988017649331947   \n",
      " non_boundary     | 0.009093657302209597 \n",
      " is_wicket        | 0.21603121589317184  \n",
      " dismissal_kind   | null                 \n",
      " player_dismissed | null                 \n",
      " fielder          | null                 \n",
      " extras_type      | null                 \n",
      " batting_team     | null                 \n",
      " bowling_team     | null                 \n",
      "-RECORD 3--------------------------------\n",
      " summary          | min                  \n",
      " match_id         | 1082591              \n",
      " inning           | 1                    \n",
      " overs            | 0                    \n",
      " ball             | 1                    \n",
      " batsman          | A Ashish Reddy       \n",
      " non_striker      | A Ashish Reddy       \n",
      " bowler           | A Ashish Reddy       \n",
      " batsman_runs     | 0                    \n",
      " extra_runs       | 0                    \n",
      " total_runs       | 0                    \n",
      " non_boundary     | 0                    \n",
      " is_wicket        | 0                    \n",
      " dismissal_kind   | NA                   \n",
      " player_dismissed | A Ashish Reddy       \n",
      " fielder          | A Ashish Reddy       \n",
      " extras_type      | NA                   \n",
      " batting_team     | Chennai Super Kings  \n",
      " bowling_team     | Chennai Super Kings  \n",
      "-RECORD 4--------------------------------\n",
      " summary          | 25%                  \n",
      " match_id         | 501227.0             \n",
      " inning           | 1.0                  \n",
      " overs            | 4.0                  \n",
      " ball             | 2.0                  \n",
      " batsman          | null                 \n",
      " non_striker      | null                 \n",
      " bowler           | null                 \n",
      " batsman_runs     | 0                    \n",
      " extra_runs       | 0                    \n",
      " total_runs       | 0                    \n",
      " non_boundary     | 0.0                  \n",
      " is_wicket        | 0                    \n",
      " dismissal_kind   | null                 \n",
      " player_dismissed | null                 \n",
      " fielder          | null                 \n",
      " extras_type      | null                 \n",
      " batting_team     | null                 \n",
      " bowling_team     | null                 \n",
      "-RECORD 5--------------------------------\n",
      " summary          | 50%                  \n",
      " match_id         | 729297.0             \n",
      " inning           | 1.0                  \n",
      " overs            | 9.0                  \n",
      " ball             | 4.0                  \n",
      " batsman          | null                 \n",
      " non_striker      | null                 \n",
      " bowler           | null                 \n",
      " batsman_runs     | 1                    \n",
      " extra_runs       | 0                    \n",
      " total_runs       | 1                    \n",
      " non_boundary     | 0.0                  \n",
      " is_wicket        | 0                    \n",
      " dismissal_kind   | null                 \n",
      " player_dismissed | null                 \n",
      " fielder          | null                 \n",
      " extras_type      | null                 \n",
      " batting_team     | null                 \n",
      " bowling_team     | null                 \n",
      "-RECORD 6--------------------------------\n",
      " summary          | 75%                  \n",
      " match_id         | 1082628.0            \n",
      " inning           | 2.0                  \n",
      " overs            | 14.0                 \n",
      " ball             | 5.0                  \n",
      " batsman          | null                 \n",
      " non_striker      | null                 \n",
      " bowler           | null                 \n",
      " batsman_runs     | 1                    \n",
      " extra_runs       | 0                    \n",
      " total_runs       | 1                    \n",
      " non_boundary     | 0.0                  \n",
      " is_wicket        | 0                    \n",
      " dismissal_kind   | null                 \n",
      " player_dismissed | null                 \n",
      " fielder          | null                 \n",
      " extras_type      | null                 \n",
      " batting_team     | null                 \n",
      " bowling_team     | null                 \n",
      "-RECORD 7--------------------------------\n",
      " summary          | max                  \n",
      " match_id         | 981019               \n",
      " inning           | 2                    \n",
      " overs            | 9                    \n",
      " ball             | 9                    \n",
      " batsman          | Z Khan               \n",
      " non_striker      | Z Khan               \n",
      " bowler           | Z Khan               \n",
      " batsman_runs     | 6                    \n",
      " extra_runs       | 7                    \n",
      " total_runs       | 7                    \n",
      " non_boundary     | 1                    \n",
      " is_wicket        | 1                    \n",
      " dismissal_kind   | stumped              \n",
      " player_dismissed | Z Khan               \n",
      " fielder          | Z Khan,Q de Kock     \n",
      " extras_type      | wides                \n",
      " batting_team     | Sunrisers Hyderabad  \n",
      " bowling_team     | Sunrisers Hyderabad  \n",
      "\n"
     ]
    }
   ],
   "source": [
    "df.summary().show(vertical=True)"
   ]
  },
  {
   "cell_type": "markdown",
   "metadata": {},
   "source": [
    "# Lets check out if there are any nan values or missing data?"
   ]
  },
  {
   "cell_type": "code",
   "execution_count": 8,
   "metadata": {},
   "outputs": [
    {
     "name": "stdout",
     "output_type": "stream",
     "text": [
      "-RECORD 0---------------\n",
      " match_id         | 0   \n",
      " inning           | 0   \n",
      " overs            | 0   \n",
      " ball             | 0   \n",
      " batsman          | 0   \n",
      " non_striker      | 0   \n",
      " bowler           | 0   \n",
      " batsman_runs     | 0   \n",
      " extra_runs       | 0   \n",
      " total_runs       | 0   \n",
      " non_boundary     | 0   \n",
      " is_wicket        | 0   \n",
      " dismissal_kind   | 0   \n",
      " player_dismissed | 0   \n",
      " fielder          | 0   \n",
      " extras_type      | 0   \n",
      " batting_team     | 0   \n",
      " bowling_team     | 0   \n",
      "\n"
     ]
    }
   ],
   "source": [
    "from pyspark.sql.functions import isnan, when, count, col\n",
    "df.select([count(when(isnan(c) | col(c).isNull(), c)).alias(c) for c in df.columns]).show(vertical=True)"
   ]
  },
  {
   "cell_type": "code",
   "execution_count": 9,
   "metadata": {},
   "outputs": [
    {
     "name": "stdout",
     "output_type": "stream",
     "text": [
      "-RECORD 0--------------\n",
      " match_id        | 0   \n",
      " date            | 0   \n",
      " player_of_match | 0   \n",
      " venue_id        | 0   \n",
      " neutral_venue   | 0   \n",
      " team1           | 0   \n",
      " team2           | 0   \n",
      " toss_winner     | 0   \n",
      " toss_decision   | 0   \n",
      " winner          | 0   \n",
      " result          | 0   \n",
      " result_margin   | 0   \n",
      " eliminator      | 0   \n",
      " method          | 0   \n",
      " umpire1         | 0   \n",
      " umpire2         | 0   \n",
      "\n"
     ]
    }
   ],
   "source": [
    "from pyspark.sql.functions import isnan, when, count, col\n",
    "df1.select([count(when(isnan(c) | col(c).isNull(), c)).alias(c) for c in df1.columns]).show(vertical=True)"
   ]
  },
  {
   "cell_type": "markdown",
   "metadata": {},
   "source": [
    "There aren't any  missing or nan values "
   ]
  },
  {
   "cell_type": "markdown",
   "metadata": {},
   "source": [
    "# Lets start Analysis"
   ]
  },
  {
   "cell_type": "markdown",
   "metadata": {
    "application/vnd.databricks.v1+cell": {
     "inputWidgets": {},
     "nuid": "2abfe47a-6892-4c6f-94af-a97a514391d7",
     "showTitle": false,
     "title": ""
    }
   },
   "source": [
    "# Which players have most sixes in IPL?"
   ]
  },
  {
   "cell_type": "code",
   "execution_count": 10,
   "metadata": {
    "application/vnd.databricks.v1+cell": {
     "inputWidgets": {},
     "nuid": "7a8cd9ce-d40f-48f3-b572-40863ba10abd",
     "showTitle": false,
     "title": ""
    }
   },
   "outputs": [
    {
     "name": "stdout",
     "output_type": "stream",
     "text": [
      "+--------------+-----+\n",
      "|       batsman|count|\n",
      "+--------------+-----+\n",
      "|      CH Gayle|  349|\n",
      "|AB de Villiers|  235|\n",
      "|      MS Dhoni|  216|\n",
      "|     RG Sharma|  214|\n",
      "|       V Kohli|  202|\n",
      "|    KA Pollard|  198|\n",
      "|     DA Warner|  195|\n",
      "|      SK Raina|  194|\n",
      "|     SR Watson|  190|\n",
      "|    RV Uthappa|  163|\n",
      "+--------------+-----+\n",
      "only showing top 10 rows\n",
      "\n"
     ]
    }
   ],
   "source": [
    "six=df.filter(df.batsman_runs=='6')\n",
    "six.groupBy('batsman').count().sort('count',ascending=False).show(10)"
   ]
  },
  {
   "cell_type": "markdown",
   "metadata": {
    "application/vnd.databricks.v1+cell": {
     "inputWidgets": {},
     "nuid": "2437f3aa-d3a6-4b84-b4ea-8844154fe149",
     "showTitle": false,
     "title": ""
    }
   },
   "source": [
    "# Which players have most fours in IPL?"
   ]
  },
  {
   "cell_type": "code",
   "execution_count": 11,
   "metadata": {
    "application/vnd.databricks.v1+cell": {
     "inputWidgets": {},
     "nuid": "c19d97e3-94b7-41c3-ad08-862810e4ab44",
     "showTitle": false,
     "title": ""
    }
   },
   "outputs": [
    {
     "name": "stdout",
     "output_type": "stream",
     "text": [
      "+--------------+-----+\n",
      "|       batsman|count|\n",
      "+--------------+-----+\n",
      "|      S Dhawan|  591|\n",
      "|     DA Warner|  510|\n",
      "|       V Kohli|  504|\n",
      "|      SK Raina|  493|\n",
      "|     G Gambhir|  492|\n",
      "|     RG Sharma|  458|\n",
      "|    RV Uthappa|  454|\n",
      "|     AM Rahane|  416|\n",
      "|AB de Villiers|  390|\n",
      "|      CH Gayle|  384|\n",
      "+--------------+-----+\n",
      "only showing top 10 rows\n",
      "\n"
     ]
    }
   ],
   "source": [
    "four=df.filter(df.batsman_runs=='4')\n",
    "four.groupBy('batsman').count().sort('count',ascending=False).show(10)"
   ]
  },
  {
   "cell_type": "markdown",
   "metadata": {
    "application/vnd.databricks.v1+cell": {
     "inputWidgets": {},
     "nuid": "de906a59-85f3-48d4-92df-1e8a3f290880",
     "showTitle": false,
     "title": ""
    }
   },
   "source": [
    "# Which players have most runs in boundaries?"
   ]
  },
  {
   "cell_type": "code",
   "execution_count": 12,
   "metadata": {
    "application/vnd.databricks.v1+cell": {
     "inputWidgets": {},
     "nuid": "cb95edc1-a3a7-4c6b-af3c-bd28b76b0d59",
     "showTitle": false,
     "title": ""
    }
   },
   "outputs": [
    {
     "name": "stdout",
     "output_type": "stream",
     "text": [
      "+--------------+------------------+\n",
      "|       Batsman|Runs in boundaries|\n",
      "+--------------+------------------+\n",
      "|      CH Gayle|              3630|\n",
      "|       V Kohli|              3228|\n",
      "|     DA Warner|              3210|\n",
      "|      SK Raina|              3136|\n",
      "|     RG Sharma|              3116|\n",
      "|      S Dhawan|              3018|\n",
      "|AB de Villiers|              2970|\n",
      "|    RV Uthappa|              2794|\n",
      "|     SR Watson|              2644|\n",
      "|      MS Dhoni|              2548|\n",
      "|     G Gambhir|              2322|\n",
      "|    KD Karthik|              2138|\n",
      "|     AM Rahane|              2120|\n",
      "|     AT Rayudu|              2024|\n",
      "|     YK Pathan|              2002|\n",
      "|    KA Pollard|              1972|\n",
      "|      V Sehwag|              1972|\n",
      "|   BB McCullum|              1952|\n",
      "|  Yuvraj Singh|              1762|\n",
      "|      PA Patel|              1754|\n",
      "+--------------+------------------+\n",
      "only showing top 20 rows\n",
      "\n"
     ]
    }
   ],
   "source": [
    "from pyspark.sql.functions import col\n",
    "from pyspark.sql import Row\n",
    "from pyspark.sql.functions import sum as _sum\n",
    "from pyspark.sql.functions import count as _count\n",
    "\n",
    "four_six=df.filter(df.batsman_runs.isin(4,6))\n",
    "four_and_six=four_six.groupBy('Batsman').agg(_sum('batsman_runs').alias(\"Runs in boundaries\")).sort('Runs in boundaries',ascending=False)\n",
    "four_and_six.show()"
   ]
  },
  {
   "cell_type": "markdown",
   "metadata": {
    "application/vnd.databricks.v1+cell": {
     "inputWidgets": {},
     "nuid": "7f342497-a478-4fc6-9eca-d392345973e9",
     "showTitle": false,
     "title": ""
    }
   },
   "source": [
    "# Who are the highest run getters in ipl?"
   ]
  },
  {
   "cell_type": "code",
   "execution_count": 13,
   "metadata": {
    "application/vnd.databricks.v1+cell": {
     "inputWidgets": {},
     "nuid": "c2c0cb49-0d11-43ca-8dc8-0167222acea5",
     "showTitle": false,
     "title": ""
    }
   },
   "outputs": [
    {
     "name": "stdout",
     "output_type": "stream",
     "text": [
      "+--------------+----+\n",
      "|       Batsman|Runs|\n",
      "+--------------+----+\n",
      "|       V Kohli|5878|\n",
      "|      SK Raina|5368|\n",
      "|     DA Warner|5254|\n",
      "|     RG Sharma|5230|\n",
      "|      S Dhawan|5197|\n",
      "|AB de Villiers|4849|\n",
      "|      CH Gayle|4772|\n",
      "|      MS Dhoni|4632|\n",
      "|    RV Uthappa|4607|\n",
      "|     G Gambhir|4217|\n",
      "|     AM Rahane|3933|\n",
      "|     SR Watson|3874|\n",
      "|    KD Karthik|3823|\n",
      "|     AT Rayudu|3659|\n",
      "|     MK Pandey|3268|\n",
      "|     YK Pathan|3204|\n",
      "|    KA Pollard|3023|\n",
      "|   BB McCullum|2880|\n",
      "|      PA Patel|2848|\n",
      "|  Yuvraj Singh|2750|\n",
      "+--------------+----+\n",
      "only showing top 20 rows\n",
      "\n"
     ]
    }
   ],
   "source": [
    "total_runs=df.groupBy('Batsman').agg(_sum('batsman_runs').alias(\"Runs\")).sort(\"Runs\",ascending=False)\n",
    "total_runs.show()\n"
   ]
  },
  {
   "cell_type": "markdown",
   "metadata": {
    "application/vnd.databricks.v1+cell": {
     "inputWidgets": {},
     "nuid": "dd7863de-f508-4fc3-b8c7-84f78810250b",
     "showTitle": false,
     "title": ""
    }
   },
   "source": [
    "# Which all players have highest number of runs scored by boundaries?"
   ]
  },
  {
   "cell_type": "code",
   "execution_count": 14,
   "metadata": {
    "application/vnd.databricks.v1+cell": {
     "inputWidgets": {},
     "nuid": "2199b7ae-f471-4a9f-a55d-5fc2e6c22885",
     "showTitle": false,
     "title": ""
    }
   },
   "outputs": [
    {
     "name": "stdout",
     "output_type": "stream",
     "text": [
      "+-----------+------------------------------+\n",
      "|    Batsman|Percentage of runs by boundary|\n",
      "+-----------+------------------------------+\n",
      "|   BA Bhatt|                         100.0|\n",
      "| GD McGrath|                         100.0|\n",
      "|   P Chopra|                         100.0|\n",
      "|   RS Sodhi|                         100.0|\n",
      "| Avesh Khan|                         100.0|\n",
      "|  VRV Singh|                         100.0|\n",
      "|   L Ronchi|             88.23529411764706|\n",
      "|   Umar Gul|             87.17948717948718|\n",
      "|J Arunkumar|             86.95652173913044|\n",
      "|MDKJ Perera|             85.71428571428571|\n",
      "+-----------+------------------------------+\n",
      "only showing top 10 rows\n",
      "\n"
     ]
    }
   ],
   "source": [
    "boundary=four_and_six.join(total_runs,on='Batsman')\n",
    "boundary_runs=boundary.withColumn(\"Percentage of runs by boundary\", col('Runs in boundaries')*100/col('Runs')).sort('Percentage of runs by boundary',ascending=False)\n",
    "boundary_runs.select(col('Batsman'),col('Percentage of runs by boundary')).show(10)"
   ]
  },
  {
   "cell_type": "markdown",
   "metadata": {
    "application/vnd.databricks.v1+cell": {
     "inputWidgets": {},
     "nuid": "f58a69fb-8ef2-498c-94d5-8f5bb3b9532a",
     "showTitle": false,
     "title": ""
    }
   },
   "source": [
    "This won't really doesn't gives us a clear picture, Thats why understanding the data is very important. So lets only find players who have scored more than 1000 runs"
   ]
  },
  {
   "cell_type": "code",
   "execution_count": 15,
   "metadata": {
    "application/vnd.databricks.v1+cell": {
     "inputWidgets": {},
     "nuid": "48c5d529-2490-4afc-b08e-701c95fd2c95",
     "showTitle": false,
     "title": ""
    }
   },
   "outputs": [
    {
     "name": "stdout",
     "output_type": "stream",
     "text": [
      "+------------+------------------------------+\n",
      "|     Batsman|Percentage of runs by boundary|\n",
      "+------------+------------------------------+\n",
      "|  AD Russell|             78.70797626895188|\n",
      "|    CH Gayle|             76.06873428331936|\n",
      "|AC Gilchrist|             72.88545190913484|\n",
      "|    V Sehwag|             72.28739002932551|\n",
      "|    DR Smith|             70.52410901467505|\n",
      "|     CA Lynn|                      69.53125|\n",
      "|   SR Watson|              68.2498709344347|\n",
      "|  GJ Maxwell|             67.90697674418605|\n",
      "| BB McCullum|             67.77777777777777|\n",
      "|   ML Hayden|             67.57000903342367|\n",
      "|   HH Pandya|             66.86434395848777|\n",
      "|  JC Buttler|             65.92765460910152|\n",
      "|      N Rana|             65.41405706332637|\n",
      "|  KA Pollard|             65.23321204101886|\n",
      "|     RR Pant|             65.12746512746513|\n",
      "| LMP Simmons|             64.87488415199259|\n",
      "|Ishan Kishan|             64.73988439306359|\n",
      "|   Q de Kock|             64.31852986217459|\n",
      "|Yuvraj Singh|             64.07272727272728|\n",
      "|    AJ Finch|             63.14214463840399|\n",
      "+------------+------------------------------+\n",
      "only showing top 20 rows\n",
      "\n"
     ]
    }
   ],
   "source": [
    "result_10=boundary_runs.filter(boundary_runs.Runs > 1000)\n",
    "result_10.select(col('Batsman'),col('Percentage of runs by boundary')).show()"
   ]
  },
  {
   "cell_type": "markdown",
   "metadata": {
    "application/vnd.databricks.v1+cell": {
     "inputWidgets": {},
     "nuid": "5fbb5c28-2f40-43df-85df-201603832fbe",
     "showTitle": false,
     "title": ""
    }
   },
   "source": [
    "# Who are the top run getters by scoring runs in non-boundaries?"
   ]
  },
  {
   "cell_type": "code",
   "execution_count": 16,
   "metadata": {
    "application/vnd.databricks.v1+cell": {
     "inputWidgets": {},
     "nuid": "44df80d0-d3d5-4533-9c1e-278eb4e9592b",
     "showTitle": false,
     "title": ""
    }
   },
   "outputs": [
    {
     "name": "stdout",
     "output_type": "stream",
     "text": [
      "+--------------+----+\n",
      "|       Batsman|Runs|\n",
      "+--------------+----+\n",
      "|       V Kohli|2650|\n",
      "|      SK Raina|2232|\n",
      "|      S Dhawan|2179|\n",
      "|     RG Sharma|2114|\n",
      "|      MS Dhoni|2084|\n",
      "|     DA Warner|2044|\n",
      "|     G Gambhir|1895|\n",
      "|AB de Villiers|1879|\n",
      "|    RV Uthappa|1813|\n",
      "|     AM Rahane|1813|\n",
      "|    KD Karthik|1685|\n",
      "|     AT Rayudu|1635|\n",
      "|     MK Pandey|1558|\n",
      "|     SR Watson|1230|\n",
      "|     YK Pathan|1202|\n",
      "|     JH Kallis|1143|\n",
      "|      CH Gayle|1142|\n",
      "|     SPD Smith|1137|\n",
      "|     SV Samson|1130|\n",
      "|      PA Patel|1094|\n",
      "+--------------+----+\n",
      "only showing top 20 rows\n",
      "\n"
     ]
    }
   ],
   "source": [
    "non_four_six=df.filter(~df.batsman_runs.isin(4,6))\n",
    "non_four_and_six=non_four_six.groupBy('Batsman').agg(_sum('batsman_runs').alias(\"Runs\")).sort('Runs',ascending=False)\n",
    "non_four_and_six.show()"
   ]
  },
  {
   "cell_type": "markdown",
   "metadata": {
    "application/vnd.databricks.v1+cell": {
     "inputWidgets": {},
     "nuid": "e5542a8b-afc8-40ac-833a-3b88f84b03e8",
     "showTitle": false,
     "title": ""
    }
   },
   "source": [
    "# Which players have best strike rate in death overs?"
   ]
  },
  {
   "cell_type": "code",
   "execution_count": 17,
   "metadata": {
    "application/vnd.databricks.v1+cell": {
     "inputWidgets": {},
     "nuid": "bf972cf6-a97a-4613-82f4-c26e99847e44",
     "showTitle": false,
     "title": ""
    }
   },
   "outputs": [],
   "source": [
    "death=df[ (df['overs'].between(15,19)) ]#filtering out wides and no balls, and taking  only powerplay overs(1-6) \n",
    "runs_1=death.groupBy('batsman').agg(_sum('batsman_runs').alias('Total_runs'))#finding out total runs by each batsman\n",
    "balls_1=death.groupby('batsman').count()#finding out total balls faced by each batsman"
   ]
  },
  {
   "cell_type": "code",
   "execution_count": 18,
   "metadata": {
    "application/vnd.databricks.v1+cell": {
     "inputWidgets": {},
     "nuid": "c6886743-9622-4548-93a4-758a79bc051b",
     "showTitle": false,
     "title": ""
    }
   },
   "outputs": [
    {
     "name": "stdout",
     "output_type": "stream",
     "text": [
      "+--------------+--------------------+\n",
      "|       Batsman|Strike rate in death|\n",
      "+--------------+--------------------+\n",
      "|AB de Villiers|  215.84415584415584|\n",
      "|       RR Pant|  207.72058823529412|\n",
      "|    AD Russell|  195.12761020881672|\n",
      "|      CH Gayle|  193.05555555555554|\n",
      "|    MEK Hussey|   189.1304347826087|\n",
      "|        N Rana|   188.9763779527559|\n",
      "|     DA Warner|  184.94983277591973|\n",
      "|     SV Samson|  184.91379310344828|\n",
      "|       V Kohli|  182.53968253968253|\n",
      "|      CL White|  182.41206030150755|\n",
      "|     SR Watson|   180.4780876494024|\n",
      "|     DA Miller|  176.74418604651163|\n",
      "|     RG Sharma|  176.16209773539927|\n",
      "|       KK Nair|  175.48387096774192|\n",
      "|     DJ Hussey|   175.2136752136752|\n",
      "|      KL Rahul|  174.62686567164178|\n",
      "|  F du Plessis|  173.29842931937173|\n",
      "|     GJ Bailey|  172.10526315789474|\n",
      "|   BCJ Cutting|  171.42857142857142|\n",
      "|     JH Kallis|  170.56277056277057|\n",
      "+--------------+--------------------+\n",
      "only showing top 20 rows\n",
      "\n"
     ]
    }
   ],
   "source": [
    "death_over=runs_1.join(balls_1,on='batsman')#In pandas we could  just do strike_rate=runs*100/balls and we could get strike rate. We can't do same in pyspark,so first I will join the two result set and then find the strike rate\n",
    "result_12=death_over.withColumn(\"Strike rate in death\", col(\"Total_runs\")*100/col(\"count\")).sort('Strike rate in death',ascending=False)#Dividing the two columns and getting the strike rate the hard way.\n",
    "death_runs=result_12[result_12['Total_runs'] > 200]#players who have more than 200 runs in deaths\n",
    "death_runs.select('Batsman','Strike rate in death').show()"
   ]
  },
  {
   "cell_type": "markdown",
   "metadata": {
    "application/vnd.databricks.v1+cell": {
     "inputWidgets": {},
     "nuid": "d982107e-05ea-4fe1-bf34-1e74dd5b8ed4",
     "showTitle": false,
     "title": ""
    }
   },
   "source": [
    "# Which players have best strike rate overall?"
   ]
  },
  {
   "cell_type": "code",
   "execution_count": 19,
   "metadata": {
    "application/vnd.databricks.v1+cell": {
     "inputWidgets": {},
     "nuid": "a4eec56e-0781-47b4-9905-ebfaaa522990",
     "showTitle": false,
     "title": ""
    }
   },
   "outputs": [],
   "source": [
    "runs_2=df.groupBy('batsman').agg(_sum('batsman_runs').alias('Total_runs'))\n",
    "balls_2=df.groupby('batsman').count()#finding out total balls faced by each batsman\n",
    "runs_balls=runs_2.join(balls_2,on='batsman')"
   ]
  },
  {
   "cell_type": "code",
   "execution_count": 20,
   "metadata": {
    "application/vnd.databricks.v1+cell": {
     "inputWidgets": {},
     "nuid": "f0f970b8-8362-4eb3-8698-1c36555c0246",
     "showTitle": false,
     "title": ""
    }
   },
   "outputs": [
    {
     "name": "stdout",
     "output_type": "stream",
     "text": [
      "+--------------+------------------+\n",
      "|       Batsman|       Strike rate|\n",
      "+--------------+------------------+\n",
      "|    AD Russell| 171.9954648526077|\n",
      "|     HH Pandya| 150.3901895206243|\n",
      "|      V Sehwag|148.82705946535734|\n",
      "|    GJ Maxwell|148.56860809476802|\n",
      "|AB de Villiers|148.56004901960785|\n",
      "|       RR Pant|146.82203389830508|\n",
      "|    JC Buttler|144.76351351351352|\n",
      "|    KA Pollard|143.47413383958235|\n",
      "|      CH Gayle|142.78874925194495|\n",
      "|     DA Warner|137.57528148730034|\n",
      "|     YK Pathan| 137.5107296137339|\n",
      "|       CA Lynn|136.46055437100213|\n",
      "|     DA Miller| 134.6433770014556|\n",
      "|     SR Watson|134.14127423822714|\n",
      "|  Ishan Kishan|133.51708930540244|\n",
      "|  AC Gilchrist|133.05466237942122|\n",
      "|      KL Rahul|133.01507537688443|\n",
      "|      SK Raina|132.83840633506557|\n",
      "|      MS Dhoni|132.60807328943602|\n",
      "| KS Williamson|132.48772504091653|\n",
      "+--------------+------------------+\n",
      "only showing top 20 rows\n",
      "\n"
     ]
    }
   ],
   "source": [
    "strike=runs_balls.withColumn(\"Strike rate\", col(\"Total_runs\")*100/col(\"count\")).sort('Strike rate',ascending=False)#Dividing the two columns and getting the strike rate .\n",
    "strike_rate=strike[strike['Total_runs'] > 1000]\n",
    "strike_rate.select('Batsman','Strike rate').show()"
   ]
  },
  {
   "cell_type": "markdown",
   "metadata": {
    "application/vnd.databricks.v1+cell": {
     "inputWidgets": {},
     "nuid": "589f9c98-e5d8-4fe7-ba92-3c938c5d2975",
     "showTitle": false,
     "title": ""
    }
   },
   "source": [
    "# Which players have scored most runs in a single over?This only include runs scored by batsman ,doesn't include any extra's like wide or no ball."
   ]
  },
  {
   "cell_type": "code",
   "execution_count": 21,
   "metadata": {
    "application/vnd.databricks.v1+cell": {
     "inputWidgets": {},
     "nuid": "d4280aeb-a115-4fcd-8922-fb7dd24df0ae",
     "showTitle": false,
     "title": ""
    }
   },
   "outputs": [
    {
     "name": "stdout",
     "output_type": "stream",
     "text": [
      "+--------+----------+-----+----+\n",
      "|match_id|   batsman|overs|Runs|\n",
      "+--------+----------+-----+----+\n",
      "|  501247|  CH Gayle|    2|  36|\n",
      "|  734047|  SK Raina|    5|  32|\n",
      "| 1216527| R Tewatia|   17|  30|\n",
      "|  335988|  V Sehwag|   12|  30|\n",
      "|  980987|   V Kohli|   18|  30|\n",
      "|  501260|  SE Marsh|   14|  30|\n",
      "|  548327|  CH Gayle|   12|  30|\n",
      "| 1082592| HH Pandya|   19|  28|\n",
      "| 1175372|AD Russell|   18|  28|\n",
      "|  598027|  CH Gayle|    4|  28|\n",
      "| 1136609|JC Buttler|    2|  28|\n",
      "| 1136586|   SS Iyer|   19|  28|\n",
      "|  598027|  CH Gayle|    7|  28|\n",
      "| 1216542|  N Pooran|    8|  28|\n",
      "|  548318| JA Morkel|   18|  28|\n",
      "| 1178402|JC Buttler|   12|  28|\n",
      "| 1082612|GJ Maxwell|   14|  27|\n",
      "| 1216547|KA Pollard|   16|  27|\n",
      "|  598027|  CH Gayle|   14|  26|\n",
      "| 1178410|    MM Ali|   15|  26|\n",
      "+--------+----------+-----+----+\n",
      "only showing top 20 rows\n",
      "\n"
     ]
    }
   ],
   "source": [
    "df.groupby(['match_id','batsman','overs']).agg(_sum('batsman_runs').alias(\"Runs\")).sort('Runs',ascending=False).show()"
   ]
  },
  {
   "cell_type": "markdown",
   "metadata": {},
   "source": [
    "Overs here is over number in which batsman has scored the runs"
   ]
  },
  {
   "cell_type": "code",
   "execution_count": 22,
   "metadata": {
    "application/vnd.databricks.v1+cell": {
     "inputWidgets": {},
     "nuid": "01a9db36-0e65-4e2c-aa23-3250cdf5340e",
     "showTitle": false,
     "title": ""
    }
   },
   "outputs": [],
   "source": [
    "from pyspark.sql.functions import year\n",
    "from pyspark.sql.functions import to_date\n",
    "\n",
    "df1 = df1.withColumn('year',year(df1.date))#Here we have added a year colummn from date column"
   ]
  },
  {
   "cell_type": "markdown",
   "metadata": {},
   "source": [
    "# Which Player has scored most runs in a particular year?"
   ]
  },
  {
   "cell_type": "code",
   "execution_count": 23,
   "metadata": {
    "application/vnd.databricks.v1+cell": {
     "inputWidgets": {},
     "nuid": "a77cce62-85e7-4137-ae69-b3053f3e947b",
     "showTitle": false,
     "title": ""
    }
   },
   "outputs": [
    {
     "name": "stdout",
     "output_type": "stream",
     "text": [
      "+--------------+----+-----------------+\n",
      "|       Batsman|year|sum(batsman_runs)|\n",
      "+--------------+----+-----------------+\n",
      "|       V Kohli|2016|              973|\n",
      "|     DA Warner|2016|              848|\n",
      "| KS Williamson|2018|              735|\n",
      "|    MEK Hussey|2013|              733|\n",
      "|      CH Gayle|2012|              733|\n",
      "|      CH Gayle|2013|              708|\n",
      "|     DA Warner|2019|              692|\n",
      "|AB de Villiers|2016|              687|\n",
      "|       RR Pant|2018|              684|\n",
      "|      KL Rahul|2020|              670|\n",
      "|    RV Uthappa|2014|              660|\n",
      "|      KL Rahul|2018|              659|\n",
      "|     DA Warner|2017|              641|\n",
      "|       V Kohli|2013|              634|\n",
      "|  SR Tendulkar|2010|              618|\n",
      "|      S Dhawan|2020|              618|\n",
      "|      SE Marsh|2008|              616|\n",
      "|      CH Gayle|2011|              608|\n",
      "|     AT Rayudu|2018|              602|\n",
      "|      KL Rahul|2019|              593|\n",
      "+--------------+----+-----------------+\n",
      "only showing top 20 rows\n",
      "\n"
     ]
    }
   ],
   "source": [
    "join_main=df.join(df1,on='match_id')\n",
    "sum_bat=join_main.groupby(['Batsman','year']).sum('batsman_runs').sort(\"sum(batsman_runs)\",ascending=False)\n",
    "sum_bat.show()"
   ]
  },
  {
   "cell_type": "markdown",
   "metadata": {},
   "source": [
    "# Who are the top scorer of ipl by each year"
   ]
  },
  {
   "cell_type": "code",
   "execution_count": 24,
   "metadata": {
    "application/vnd.databricks.v1+cell": {
     "inputWidgets": {},
     "nuid": "8f0929ee-f0ed-4fd5-92e2-7b9ab12adb6d",
     "showTitle": false,
     "title": ""
    }
   },
   "outputs": [
    {
     "name": "stdout",
     "output_type": "stream",
     "text": [
      "+-------------+----+-----------------+----+\n",
      "|      Batsman|year|sum(batsman_runs)|rank|\n",
      "+-------------+----+-----------------+----+\n",
      "|     SE Marsh|2008|              616|   1|\n",
      "|    ML Hayden|2009|              572|   1|\n",
      "| SR Tendulkar|2010|              618|   1|\n",
      "|     CH Gayle|2011|              608|   1|\n",
      "|     CH Gayle|2012|              733|   1|\n",
      "|   MEK Hussey|2013|              733|   1|\n",
      "|   RV Uthappa|2014|              660|   1|\n",
      "|    DA Warner|2015|              562|   1|\n",
      "|      V Kohli|2016|              973|   1|\n",
      "|    DA Warner|2017|              641|   1|\n",
      "|KS Williamson|2018|              735|   1|\n",
      "|    DA Warner|2019|              692|   1|\n",
      "|     KL Rahul|2020|              670|   1|\n",
      "+-------------+----+-----------------+----+\n",
      "\n"
     ]
    }
   ],
   "source": [
    "from pyspark.sql.window import Window\n",
    "from pyspark.sql.functions import rank\n",
    "from pyspark.sql.functions import col\n",
    "\n",
    "\n",
    "window_1 = Window.partitionBy('Year').orderBy(col('sum(batsman_runs)').desc())\n",
    "res_41=sum_bat.withColumn('rank',rank().over(window_1))\n",
    "top_scorer=res_41[res_41['rank']==1].sort('year')\n",
    "top_scorer.show()"
   ]
  },
  {
   "cell_type": "markdown",
   "metadata": {
    "application/vnd.databricks.v1+cell": {
     "inputWidgets": {},
     "nuid": "ef8708a1-86ff-40b4-b578-1f43bd47b925",
     "showTitle": false,
     "title": ""
    }
   },
   "source": [
    "# Which players have finished as top scorer of ipl most number of times? "
   ]
  },
  {
   "cell_type": "code",
   "execution_count": 25,
   "metadata": {},
   "outputs": [
    {
     "name": "stdout",
     "output_type": "stream",
     "text": [
      "+-------------+-----+\n",
      "|      Batsman|count|\n",
      "+-------------+-----+\n",
      "|    DA Warner|    3|\n",
      "|     CH Gayle|    2|\n",
      "|     SE Marsh|    1|\n",
      "|   MEK Hussey|    1|\n",
      "|     KL Rahul|    1|\n",
      "|   RV Uthappa|    1|\n",
      "|    ML Hayden|    1|\n",
      "|      V Kohli|    1|\n",
      "|KS Williamson|    1|\n",
      "| SR Tendulkar|    1|\n",
      "+-------------+-----+\n",
      "\n"
     ]
    }
   ],
   "source": [
    "top_scorer.groupby('Batsman').count().sort('count',ascending=False).show()"
   ]
  },
  {
   "cell_type": "markdown",
   "metadata": {},
   "source": [
    "# Which Player has taken most wickets in a particular year?\n"
   ]
  },
  {
   "cell_type": "code",
   "execution_count": 26,
   "metadata": {},
   "outputs": [
    {
     "name": "stdout",
     "output_type": "stream",
     "text": [
      "+---------------+----+--------------+\n",
      "|         bowler|year|sum(is_wicket)|\n",
      "+---------------+----+--------------+\n",
      "|       DJ Bravo|2013|            34|\n",
      "|    JP Faulkner|2013|            33|\n",
      "|       K Rabada|2020|            30|\n",
      "|       M Morkel|2012|            30|\n",
      "|     SL Malinga|2011|            30|\n",
      "|      SP Narine|2012|            29|\n",
      "|         AJ Tye|2018|            28|\n",
      "|       DJ Bravo|2015|            28|\n",
      "|       K Rabada|2019|            28|\n",
      "|        B Kumar|2017|            28|\n",
      "|      JJ Bumrah|2020|            28|\n",
      "|     JD Unadkat|2017|            27|\n",
      "|  R Vinay Kumar|2013|            27|\n",
      "|       TA Boult|2020|            26|\n",
      "|       RP Singh|2009|            26|\n",
      "|    Imran Tahir|2019|            26|\n",
      "|      MM Sharma|2014|            26|\n",
      "|      SP Narine|2013|            26|\n",
      "|     SL Malinga|2015|            26|\n",
      "|Harbhajan Singh|2013|            25|\n",
      "+---------------+----+--------------+\n",
      "only showing top 20 rows\n",
      "\n"
     ]
    }
   ],
   "source": [
    "sum_wic=join_main.groupby(['bowler','year']).sum('is_wicket').sort(\"sum(is_wicket)\",ascending=False)\n",
    "sum_wic.show()"
   ]
  },
  {
   "cell_type": "markdown",
   "metadata": {},
   "source": [
    "# Who are the top wicket takers of ipl by each year?"
   ]
  },
  {
   "cell_type": "code",
   "execution_count": 27,
   "metadata": {},
   "outputs": [
    {
     "name": "stdout",
     "output_type": "stream",
     "text": [
      "+-------------+----+--------------+----+\n",
      "|       bowler|year|sum(is_wicket)|rank|\n",
      "+-------------+----+--------------+----+\n",
      "|Sohail Tanvir|2008|            24|   1|\n",
      "|     RP Singh|2009|            26|   1|\n",
      "|      PP Ojha|2010|            22|   1|\n",
      "|   SL Malinga|2011|            30|   1|\n",
      "|     M Morkel|2012|            30|   1|\n",
      "|     DJ Bravo|2013|            34|   1|\n",
      "|    MM Sharma|2014|            26|   1|\n",
      "|     DJ Bravo|2015|            28|   1|\n",
      "|      B Kumar|2016|            24|   1|\n",
      "|      B Kumar|2017|            28|   1|\n",
      "|       AJ Tye|2018|            28|   1|\n",
      "|     K Rabada|2019|            28|   1|\n",
      "|     K Rabada|2020|            30|   1|\n",
      "+-------------+----+--------------+----+\n",
      "\n"
     ]
    }
   ],
   "source": [
    "window_2 = Window.partitionBy('Year').orderBy(col('sum(is_wicket)').desc())\n",
    "res_42=sum_wic.withColumn('rank',rank().over(window_2))\n",
    "top_wicket=res_42[res_42['rank']==1].sort('year')\n",
    "top_wicket.show()"
   ]
  },
  {
   "cell_type": "markdown",
   "metadata": {},
   "source": [
    "# Which players have finished as top wicket of ipl most number of times?"
   ]
  },
  {
   "cell_type": "code",
   "execution_count": 28,
   "metadata": {},
   "outputs": [
    {
     "name": "stdout",
     "output_type": "stream",
     "text": [
      "+-------------+-----+\n",
      "|       bowler|count|\n",
      "+-------------+-----+\n",
      "|     K Rabada|    2|\n",
      "|      B Kumar|    2|\n",
      "|     DJ Bravo|    2|\n",
      "|       AJ Tye|    1|\n",
      "|   SL Malinga|    1|\n",
      "|Sohail Tanvir|    1|\n",
      "|    MM Sharma|    1|\n",
      "|     M Morkel|    1|\n",
      "|      PP Ojha|    1|\n",
      "|     RP Singh|    1|\n",
      "+-------------+-----+\n",
      "\n"
     ]
    }
   ],
   "source": [
    "top_wicket.groupby('bowler').count().sort('count',ascending=False).show()"
   ]
  },
  {
   "cell_type": "markdown",
   "metadata": {},
   "source": [
    "# Which players have scored most number of fifty?"
   ]
  },
  {
   "cell_type": "code",
   "execution_count": 29,
   "metadata": {},
   "outputs": [
    {
     "name": "stdout",
     "output_type": "stream",
     "text": [
      "+--------------+-----+\n",
      "|       batsman|count|\n",
      "+--------------+-----+\n",
      "|     DA Warner|   48|\n",
      "|      S Dhawan|   41|\n",
      "|     RG Sharma|   39|\n",
      "|       V Kohli|   39|\n",
      "|      SK Raina|   38|\n",
      "|AB de Villiers|   38|\n",
      "|     G Gambhir|   36|\n",
      "|      CH Gayle|   31|\n",
      "|     AM Rahane|   28|\n",
      "|    RV Uthappa|   24|\n",
      "|      MS Dhoni|   23|\n",
      "|     SR Watson|   21|\n",
      "|      KL Rahul|   21|\n",
      "|      SE Marsh|   20|\n",
      "|    KD Karthik|   19|\n",
      "|     AT Rayudu|   19|\n",
      "|     MK Pandey|   18|\n",
      "|      DR Smith|   17|\n",
      "|     JH Kallis|   17|\n",
      "|  F du Plessis|   16|\n",
      "+--------------+-----+\n",
      "only showing top 20 rows\n",
      "\n"
     ]
    }
   ],
   "source": [
    "fil=df.groupby(['match_id','batsman']).sum('batsman_runs')\n",
    "fifty=fil[(fil['sum(batsman_runs)'] >= 50) & (fil['sum(batsman_runs)'] < 100)]\n",
    "fifty.groupby('batsman').count().sort('count',ascending=False).show()"
   ]
  },
  {
   "cell_type": "markdown",
   "metadata": {},
   "source": [
    "# Which players have scored most number of hundreds?"
   ]
  },
  {
   "cell_type": "code",
   "execution_count": 30,
   "metadata": {},
   "outputs": [
    {
     "name": "stdout",
     "output_type": "stream",
     "text": [
      "+--------------+-----+\n",
      "|       batsman|count|\n",
      "+--------------+-----+\n",
      "|      CH Gayle|    6|\n",
      "|       V Kohli|    5|\n",
      "|     SR Watson|    4|\n",
      "|     DA Warner|    4|\n",
      "|AB de Villiers|    3|\n",
      "|       M Vijay|    2|\n",
      "|     AM Rahane|    2|\n",
      "|   BB McCullum|    2|\n",
      "|      S Dhawan|    2|\n",
      "|     SV Samson|    2|\n",
      "+--------------+-----+\n",
      "only showing top 10 rows\n",
      "\n"
     ]
    }
   ],
   "source": [
    "hun=fil[fil['sum(batsman_runs)'] >= 100]\n",
    "hun.groupby('batsman').count().sort('count',ascending=False).show(10)"
   ]
  },
  {
   "cell_type": "markdown",
   "metadata": {},
   "source": [
    "# Which player has  highest score in a match?"
   ]
  },
  {
   "cell_type": "code",
   "execution_count": 31,
   "metadata": {},
   "outputs": [
    {
     "name": "stdout",
     "output_type": "stream",
     "text": [
      "+--------+--------------+-----------------+\n",
      "|match_id|       batsman|sum(batsman_runs)|\n",
      "+--------+--------------+-----------------+\n",
      "|  598027|      CH Gayle|              175|\n",
      "|  335982|   BB McCullum|              158|\n",
      "|  829795|AB de Villiers|              133|\n",
      "| 1216510|      KL Rahul|              132|\n",
      "|  980987|AB de Villiers|              129|\n",
      "|  548372|      CH Gayle|              128|\n",
      "| 1136602|       RR Pant|              128|\n",
      "|  419137|       M Vijay|              127|\n",
      "| 1082627|     DA Warner|              126|\n",
      "|  734047|      V Sehwag|              122|\n",
      "|  501206|   PC Valthaty|              120|\n",
      "|  501243|      V Sehwag|              119|\n",
      "|  335990|     A Symonds|              117|\n",
      "| 1136620|     SR Watson|              117|\n",
      "|  829785|      CH Gayle|              117|\n",
      "|  335983|    MEK Hussey|              116|\n",
      "|  734049|       WP Saha|              115|\n",
      "|  336019|      SE Marsh|              115|\n",
      "|  336018| ST Jayasuriya|              114|\n",
      "| 1175366|   JM Bairstow|              114|\n",
      "+--------+--------------+-----------------+\n",
      "only showing top 20 rows\n",
      "\n"
     ]
    }
   ],
   "source": [
    "fil.sort('sum(batsman_runs)',ascending=False).show()"
   ]
  },
  {
   "cell_type": "markdown",
   "metadata": {},
   "source": [
    "# Which player has been dismissed for duck most number of times?"
   ]
  },
  {
   "cell_type": "code",
   "execution_count": 32,
   "metadata": {
    "application/vnd.databricks.v1+cell": {
     "inputWidgets": {},
     "nuid": "f2c741ca-948e-446d-81ab-dea4ed55c318",
     "showTitle": false,
     "title": ""
    }
   },
   "outputs": [
    {
     "name": "stdout",
     "output_type": "stream",
     "text": [
      "+---------------+-----+\n",
      "|        batsman|count|\n",
      "+---------------+-----+\n",
      "|      AM Rahane|   13|\n",
      "|       PA Patel|   13|\n",
      "|     KD Karthik|   12|\n",
      "|Harbhajan Singh|   12|\n",
      "|       R Ashwin|   12|\n",
      "|      MK Pandey|   12|\n",
      "|      RG Sharma|   12|\n",
      "|  Mandeep Singh|   11|\n",
      "|      G Gambhir|   11|\n",
      "|      PP Chawla|   11|\n",
      "|       S Dhawan|   11|\n",
      "|     GJ Maxwell|   10|\n",
      "|      AT Rayudu|   10|\n",
      "|       R Sharma|   10|\n",
      "|      YK Pathan|   10|\n",
      "| AB de Villiers|    9|\n",
      "|        NV Ojha|    9|\n",
      "|        P Kumar|    9|\n",
      "|       AJ Finch|    8|\n",
      "|       DR Smith|    8|\n",
      "+---------------+-----+\n",
      "only showing top 20 rows\n",
      "\n"
     ]
    }
   ],
   "source": [
    "duck=fil[fil['sum(batsman_runs)'] == 0]\n",
    "duck.groupby('batsman').count().sort('count',ascending=False).show()"
   ]
  },
  {
   "cell_type": "markdown",
   "metadata": {},
   "source": [
    "# Which player has scored most hundreds in single season?"
   ]
  },
  {
   "cell_type": "code",
   "execution_count": 33,
   "metadata": {
    "application/vnd.databricks.v1+cell": {
     "inputWidgets": {},
     "nuid": "5db64aa3-11c1-4451-9e73-f5ae79535a20",
     "showTitle": false,
     "title": ""
    }
   },
   "outputs": [
    {
     "name": "stdout",
     "output_type": "stream",
     "text": [
      "+----------------+----+-----+\n",
      "|         batsman|year|count|\n",
      "+----------------+----+-----+\n",
      "|         V Kohli|2016|    4|\n",
      "|        CH Gayle|2011|    2|\n",
      "|         HM Amla|2017|    2|\n",
      "|        S Dhawan|2020|    2|\n",
      "|       SR Watson|2018|    2|\n",
      "|       SR Watson|2013|    1|\n",
      "|        CH Gayle|2012|    1|\n",
      "|         M Vijay|2012|    1|\n",
      "|      MA Agarwal|2020|    1|\n",
      "|DPMD Jayawardene|2010|    1|\n",
      "+----------------+----+-----+\n",
      "only showing top 10 rows\n",
      "\n"
     ]
    }
   ],
   "source": [
    "most_year=join_main.groupby(['year','match_id','batsman']).sum('batsman_runs')\n",
    "most_hun=most_year[most_year['sum(batsman_runs)'] >= 100]\n",
    "most_hun.groupby(['batsman','year']).count().sort('count',ascending=False).show(10)"
   ]
  },
  {
   "cell_type": "markdown",
   "metadata": {},
   "source": [
    "# Which players have most ducks in a single season?"
   ]
  },
  {
   "cell_type": "code",
   "execution_count": 34,
   "metadata": {},
   "outputs": [
    {
     "name": "stdout",
     "output_type": "stream",
     "text": [
      "+---------------+----+-----+\n",
      "|        batsman|year|count|\n",
      "+---------------+----+-----+\n",
      "|       R Sharma|2013|    4|\n",
      "|  Anureet Singh|2015|    4|\n",
      "|       M Manhas|2011|    4|\n",
      "|       HH Gibbs|2009|    4|\n",
      "|       S Dhawan|2020|    4|\n",
      "|      MK Pandey|2012|    4|\n",
      "|C de Grandhomme|2017|    3|\n",
      "|       R Sharma|2012|    3|\n",
      "|       RV Gomez|2011|    3|\n",
      "|        PP Shaw|2020|    3|\n",
      "+---------------+----+-----+\n",
      "only showing top 10 rows\n",
      "\n"
     ]
    }
   ],
   "source": [
    "most_duck=join_main.groupby(['year','match_id','batsman']).sum('batsman_runs')\n",
    "most_duck_year=most_duck[most_duck['sum(batsman_runs)']  == 0]\n",
    "most_duck_year.groupby(['batsman','year']).count().sort('count',ascending=False).show(10)"
   ]
  },
  {
   "cell_type": "markdown",
   "metadata": {},
   "source": [
    "# Which player has taken most wickets in single match?"
   ]
  },
  {
   "cell_type": "code",
   "execution_count": 35,
   "metadata": {},
   "outputs": [
    {
     "name": "stdout",
     "output_type": "stream",
     "text": [
      "+--------+-------------+--------------+\n",
      "|match_id|       bowler|sum(is_wicket)|\n",
      "+--------+-------------+--------------+\n",
      "|  598056|    DJG Sammy|             6|\n",
      "| 1178394|    AS Joseph|             6|\n",
      "|  980963|   AD Russell|             6|\n",
      "|  336005|Sohail Tanvir|             6|\n",
      "|  980979|      A Zampa|             6|\n",
      "|  548311|    RA Jadeja|             5|\n",
      "|  597998|    SP Narine|             5|\n",
      "| 1136600|       AJ Tye|             5|\n",
      "| 1082634|   JD Unadkat|             5|\n",
      "|  501229|     I Sharma|             5|\n",
      "+--------+-------------+--------------+\n",
      "only showing top 10 rows\n",
      "\n"
     ]
    }
   ],
   "source": [
    "df.groupby(['match_id','bowler']).sum('is_wicket').sort('sum(is_wicket)',ascending=False).show(10)"
   ]
  },
  {
   "cell_type": "markdown",
   "metadata": {},
   "source": [
    "# Which player has conceded most number of runs  when bowled all 4 overs?"
   ]
  },
  {
   "cell_type": "code",
   "execution_count": 36,
   "metadata": {},
   "outputs": [
    {
     "name": "stdout",
     "output_type": "stream",
     "text": [
      "+----------------+--------+-----+-------------------------------+\n",
      "|          bowler|match_id|count|Runs conceded in a single match|\n",
      "+----------------+--------+-----+-------------------------------+\n",
      "|    Basil Thampi| 1136611|   25|                             70|\n",
      "|        I Sharma|  598051|   27|                             66|\n",
      "|Mujeeb Ur Rahman| 1178423|   27|                             66|\n",
      "|        UT Yadav|  598054|   25|                             65|\n",
      "|  Sandeep Sharma|  734007|   28|                             65|\n",
      "|          S Kaul| 1216538|   26|                             64|\n",
      "|        VR Aaron|  548380|   26|                             63|\n",
      "|        AB Dinda|  598011|   26|                             63|\n",
      "|        MG Neser|  598064|   25|                             62|\n",
      "|       SR Watson|  981019|   26|                             61|\n",
      "|      TG Southee| 1175372|   25|                             61|\n",
      "|      AS Rajpoot| 1216541|   28|                             60|\n",
      "|       R McLaren|  598050|   26|                             60|\n",
      "|      SK Trivedi|  501220|   28|                             59|\n",
      "|      PJ Cummins| 1082635|   28|                             59|\n",
      "|     Imran Tahir|  980993|   24|                             59|\n",
      "|        RP Singh|  336014|   25|                             59|\n",
      "|        AN Ahmed|  829737|   25|                             59|\n",
      "|        UT Yadav| 1136571|   28|                             59|\n",
      "|        K Rabada| 1082630|   25|                             59|\n",
      "+----------------+--------+-----+-------------------------------+\n",
      "only showing top 20 rows\n",
      "\n"
     ]
    }
   ],
   "source": [
    "lst_runs=df.groupby(['match_id','bowler']).count()\n",
    "extra=df.filter(~df.extras_type.isin('legbyes','byes'))\n",
    "runs_con=extra.groupby(['match_id','bowler']).agg(_sum('total_runs').alias(\"Runs conceded in a single match\"))\n",
    "joinsss=lst_runs.join(runs_con,on=['bowler','match_id'])\n",
    "joinsss[joinsss['count'] >= 24].sort('Runs conceded in a single match',ascending=False).show()"
   ]
  },
  {
   "cell_type": "markdown",
   "metadata": {},
   "source": [
    "# Which player has conceded least number of runs  when bowled all 4 overs?"
   ]
  },
  {
   "cell_type": "code",
   "execution_count": 37,
   "metadata": {},
   "outputs": [
    {
     "name": "stdout",
     "output_type": "stream",
     "text": [
      "+-----------------+--------+-----+-------------------------------+\n",
      "|           bowler|match_id|count|Runs conceded in a single match|\n",
      "+-----------------+--------+-----+-------------------------------+\n",
      "|          A Nehra|  392226|   24|                              6|\n",
      "|        YS Chahal| 1175356|   24|                              6|\n",
      "|       FH Edwards|  392184|   24|                              6|\n",
      "|      Rashid Khan| 1216524|   24|                              7|\n",
      "|      LH Ferguson| 1082624|   25|                              7|\n",
      "|         R Sharma|  501241|   24|                              7|\n",
      "|            B Lee|  501245|   24|                              8|\n",
      "|        KV Sharma|  598030|   24|                              8|\n",
      "|   M Muralitharan|  392234|   24|                              8|\n",
      "|          P Kumar|  548350|   24|                              8|\n",
      "|         DW Steyn|  548376|   24|                              8|\n",
      "|   Mohammed Siraj| 1216494|   24|                              8|\n",
      "|    BW Hilfenhaus|  548361|   24|                              8|\n",
      "|  Mohammad Hafeez|  335986|   25|                              8|\n",
      "|       MG Johnson|  598055|   24|                              8|\n",
      "|         A Mishra|  598065|   24|                              8|\n",
      "|         DR Smith|  981001|   25|                              8|\n",
      "|       SM Pollock|  336018|   24|                              9|\n",
      "|            B Lee|  335991|   24|                              9|\n",
      "|Mustafizur Rahman|  980935|   24|                              9|\n",
      "+-----------------+--------+-----+-------------------------------+\n",
      "only showing top 20 rows\n",
      "\n"
     ]
    }
   ],
   "source": [
    "joinsss[joinsss['count'] >= 24].sort('Runs conceded in a single match',ascending=True).show()"
   ]
  },
  {
   "cell_type": "markdown",
   "metadata": {},
   "source": [
    "# Which ballers have bowled most Deliveres in a single match?(Note :- A bowler bowls 24 Deliveres in match,anything over that are extra balls)"
   ]
  },
  {
   "cell_type": "code",
   "execution_count": 38,
   "metadata": {},
   "outputs": [
    {
     "name": "stdout",
     "output_type": "stream",
     "text": [
      "+--------+--------------+-----+\n",
      "|match_id|        bowler|count|\n",
      "+--------+--------------+-----+\n",
      "|  392222|    SL Malinga|   31|\n",
      "| 1216522|     R Tewatia|   30|\n",
      "|  548377|       SW Tait|   30|\n",
      "|  501270|      AN Ahmed|   30|\n",
      "|  419107|       SW Tait|   30|\n",
      "|  392210|    SM Harwood|   30|\n",
      "|  336014|      Umar Gul|   30|\n",
      "|  392222|         B Lee|   30|\n",
      "|  392226|   MF Maharoof|   30|\n",
      "| 1181766|      KMA Paul|   30|\n",
      "| 1136603|     JC Archer|   30|\n",
      "| 1082647|MJ McClenaghan|   29|\n",
      "|  829709|    MG Johnson|   29|\n",
      "| 1216537|      VR Aaron|   29|\n",
      "| 1216525|     SM Curran|   29|\n",
      "|  336040|     JA Morkel|   29|\n",
      "|  392218|    SL Malinga|   29|\n",
      "|  829737|     JJ Bumrah|   29|\n",
      "|  548379| BW Hilfenhaus|   29|\n",
      "|  392239|       P Kumar|   29|\n",
      "+--------+--------------+-----+\n",
      "only showing top 20 rows\n",
      "\n"
     ]
    }
   ],
   "source": [
    "df.groupby(['match_id','bowler']).count().sort('count',ascending=False).show()"
   ]
  },
  {
   "cell_type": "markdown",
   "metadata": {},
   "source": [
    "Malinga has bowled 7 extra balls in a single match"
   ]
  },
  {
   "cell_type": "markdown",
   "metadata": {},
   "source": [
    "# Which player has most number of dot balls in ipl?"
   ]
  },
  {
   "cell_type": "code",
   "execution_count": 39,
   "metadata": {},
   "outputs": [
    {
     "name": "stdout",
     "output_type": "stream",
     "text": [
      "+---------------+-----+\n",
      "|         bowler|count|\n",
      "+---------------+-----+\n",
      "|Harbhajan Singh| 1244|\n",
      "|       R Ashwin| 1166|\n",
      "|        B Kumar| 1155|\n",
      "|     SL Malinga| 1144|\n",
      "|      PP Chawla| 1137|\n",
      "|       A Mishra| 1125|\n",
      "|      SP Narine| 1100|\n",
      "|        P Kumar| 1075|\n",
      "|       DW Steyn| 1019|\n",
      "|       UT Yadav|  954|\n",
      "|         Z Khan|  873|\n",
      "|      RA Jadeja|  870|\n",
      "|       DJ Bravo|  860|\n",
      "| Sandeep Sharma|  847|\n",
      "|      IK Pathan|  835|\n",
      "|       I Sharma|  817|\n",
      "|      JJ Bumrah|  811|\n",
      "|      SR Watson|  803|\n",
      "|        A Nehra|  798|\n",
      "|  R Vinay Kumar|  763|\n",
      "+---------------+-----+\n",
      "only showing top 20 rows\n",
      "\n"
     ]
    }
   ],
   "source": [
    "dot=df[df['total_runs']==0]\n",
    "dot.groupby(['bowler']).count().sort('count',ascending=False).show()"
   ]
  },
  {
   "cell_type": "markdown",
   "metadata": {},
   "source": [
    "# Which player has most number of dot balls in a single ipl match?"
   ]
  },
  {
   "cell_type": "code",
   "execution_count": 40,
   "metadata": {},
   "outputs": [
    {
     "name": "stdout",
     "output_type": "stream",
     "text": [
      "+--------+-------------+-----+\n",
      "|match_id|       bowler|count|\n",
      "+--------+-------------+-----+\n",
      "| 1178398|    DL Chahar|   19|\n",
      "|  392226|      A Nehra|   19|\n",
      "|  392233|     MM Patel|   19|\n",
      "|  548376|     DW Steyn|   18|\n",
      "|  336023|Sohail Tanvir|   18|\n",
      "|  501223|     M Morkel|   18|\n",
      "|  981001|     DR Smith|   18|\n",
      "| 1175356|    YS Chahal|   18|\n",
      "| 1175356|  Imran Tahir|   18|\n",
      "|  829801|       Z Khan|   18|\n",
      "|  336029|     DW Steyn|   18|\n",
      "|  733977|      B Kumar|   18|\n",
      "|  598065|     A Mishra|   18|\n",
      "|  392201|    DP Nannes|   18|\n",
      "| 1136616|   AS Rajpoot|   18|\n",
      "|  336018|   SM Pollock|   17|\n",
      "|  548311|    RA Jadeja|   17|\n",
      "|  548319|      P Kumar|   17|\n",
      "|  598023|     RP Singh|   17|\n",
      "|  336019|    IK Pathan|   17|\n",
      "+--------+-------------+-----+\n",
      "only showing top 20 rows\n",
      "\n"
     ]
    }
   ],
   "source": [
    "dot.groupby(['match_id','bowler']).count().sort('count',ascending=False).show()"
   ]
  },
  {
   "cell_type": "markdown",
   "metadata": {},
   "source": [
    "# Which player has most maidens in ipl?"
   ]
  },
  {
   "cell_type": "code",
   "execution_count": 41,
   "metadata": {},
   "outputs": [],
   "source": [
    "maiden=df[(df['extras_type'].isin('byes','legbyes','NA')) &  (df['total_runs']==0) ]\n",
    "maiden_over=maiden.groupby(['match_id','bowler','overs']).count()"
   ]
  },
  {
   "cell_type": "code",
   "execution_count": 42,
   "metadata": {},
   "outputs": [
    {
     "name": "stdout",
     "output_type": "stream",
     "text": [
      "+-------+-----+\n",
      "| bowler|count|\n",
      "+-------+-----+\n",
      "|P Kumar|   14|\n",
      "+-------+-----+\n",
      "only showing top 1 row\n",
      "\n"
     ]
    }
   ],
   "source": [
    "res19=maiden_over[maiden_over['count'] >= 6]\n",
    "res19.groupby('bowler').count().sort('count',ascending=False).show(1)"
   ]
  },
  {
   "cell_type": "markdown",
   "metadata": {},
   "source": [
    "# Which players have bowled most number of  overs in ipl?"
   ]
  },
  {
   "cell_type": "code",
   "execution_count": 43,
   "metadata": {},
   "outputs": [
    {
     "name": "stdout",
     "output_type": "stream",
     "text": [
      "+---------------+-----+\n",
      "|         bowler|count|\n",
      "+---------------+-----+\n",
      "|Harbhajan Singh|  561|\n",
      "|      PP Chawla|  538|\n",
      "|       R Ashwin|  535|\n",
      "|       A Mishra|  525|\n",
      "|     SL Malinga|  464|\n",
      "|      SP Narine|  463|\n",
      "|      RA Jadeja|  448|\n",
      "|       DJ Bravo|  447|\n",
      "|        B Kumar|  445|\n",
      "|       UT Yadav|  419|\n",
      "|        P Kumar|  417|\n",
      "|         Z Khan|  364|\n",
      "|       DW Steyn|  360|\n",
      "|      YS Chahal|  353|\n",
      "|  R Vinay Kumar|  350|\n",
      "|      JJ Bumrah|  347|\n",
      "| Sandeep Sharma|  341|\n",
      "|      SR Watson|  336|\n",
      "|       AR Patel|  335|\n",
      "|      IK Pathan|  335|\n",
      "+---------------+-----+\n",
      "only showing top 20 rows\n",
      "\n"
     ]
    }
   ],
   "source": [
    "maxx=df.groupby(['match_id','bowler','overs']).count()\n",
    "max_over=maxx[maxx['count'] >= 6]\n",
    "resm=max_over.groupby('bowler').count().sort('count',ascending=False)\n",
    "resm.show()"
   ]
  },
  {
   "cell_type": "markdown",
   "metadata": {},
   "source": [
    "# Which bowler has best economic rate in ipl?(only those have bowled over 50 overs)"
   ]
  },
  {
   "cell_type": "code",
   "execution_count": 44,
   "metadata": {},
   "outputs": [],
   "source": [
    "ext=df[~df['extras_type'].isin('byes','leg_byes')]#filetring out runs conceded by byes or leg byes\n",
    "runs_concc=ext.groupby('bowler').sum('total_runs')"
   ]
  },
  {
   "cell_type": "code",
   "execution_count": 45,
   "metadata": {},
   "outputs": [
    {
     "name": "stdout",
     "output_type": "stream",
     "text": [
      "+-----------------+------------------+\n",
      "|           bowler|     economic rate|\n",
      "+-----------------+------------------+\n",
      "|      Rashid Khan| 6.373983739837398|\n",
      "|       GD McGrath| 6.777777777777778|\n",
      "|         A Kumble| 6.849056603773585|\n",
      "|        SP Narine|6.9049676025917925|\n",
      "|   M Muralitharan| 6.909090909090909|\n",
      "|Washington Sundar| 6.954128440366972|\n",
      "|       DL Vettori|         6.9765625|\n",
      "| RE van der Merwe|               7.0|\n",
      "|         R Ashwin| 7.003738317757009|\n",
      "|   AD Mascarenhas|7.0588235294117645|\n",
      "|          J Botha| 7.060869565217391|\n",
      "|         DW Steyn| 7.116666666666666|\n",
      "|         R Sharma| 7.123376623376624|\n",
      "|         CV Varun| 7.127272727272727|\n",
      "|  Harbhajan Singh| 7.174688057040998|\n",
      "|        R Tewatia| 7.189473684210526|\n",
      "|        JC Archer| 7.294117647058823|\n",
      "|         SK Warne| 7.341708542713568|\n",
      "|         M Kartik| 7.366492146596858|\n",
      "|        KH Pandya| 7.367149758454106|\n",
      "+-----------------+------------------+\n",
      "only showing top 20 rows\n",
      "\n"
     ]
    }
   ],
   "source": [
    "from pyspark.sql.functions import col\n",
    "\n",
    "eco=resm.join(runs_concc,on='bowler')\n",
    "\n",
    "\n",
    "\n",
    "bow_eco=eco.withColumn(\"economic rate\", col('sum(total_runs)')/col(\"count\")).sort('economic rate')\n",
    "economic_rate=bow_eco[bow_eco['count'] > 50]\n",
    "economic_rate.select('bowler','economic rate').show()"
   ]
  },
  {
   "cell_type": "markdown",
   "metadata": {},
   "source": [
    "# Which bowlers  have best economic rate death overs?(only those have bowled over 30 overs)"
   ]
  },
  {
   "cell_type": "code",
   "execution_count": 46,
   "metadata": {},
   "outputs": [],
   "source": [
    "death=df[df['overs'].between(15,19)]\n",
    "maxx_death=death.groupby(['match_id','bowler','overs']).count()\n",
    "max_over_death=maxx_death[maxx_death['count'] >= 6]\n",
    "res_d=max_over_death.groupby('bowler').count()"
   ]
  },
  {
   "cell_type": "code",
   "execution_count": 47,
   "metadata": {},
   "outputs": [
    {
     "name": "stdout",
     "output_type": "stream",
     "text": [
      "+-----------------+------------------+\n",
      "|           bowler|     economic rate|\n",
      "+-----------------+------------------+\n",
      "|     DE Bollinger|7.7368421052631575|\n",
      "|        SP Narine| 7.827338129496403|\n",
      "|         MA Starc|7.9393939393939394|\n",
      "|         R Ashwin| 8.026666666666667|\n",
      "|      Rashid Khan| 8.071428571428571|\n",
      "|  Harbhajan Singh| 8.272727272727273|\n",
      "|   M Muralitharan|               8.4|\n",
      "|       SL Malinga| 8.458100558659218|\n",
      "|Mustafizur Rahman| 8.555555555555555|\n",
      "|        CH Morris| 8.641304347826088|\n",
      "|         DW Steyn| 8.650485436893204|\n",
      "|       WD Parnell|               9.0|\n",
      "|        RA Jadeja|               9.0|\n",
      "|        JJ Bumrah| 9.006849315068493|\n",
      "|        KK Cooper| 9.022727272727273|\n",
      "|         R Bhatia| 9.054054054054054|\n",
      "|           S Kaul| 9.072727272727272|\n",
      "|         SK Warne| 9.083333333333334|\n",
      "|            B Lee| 9.098039215686274|\n",
      "|          A Nehra| 9.126436781609195|\n",
      "+-----------------+------------------+\n",
      "only showing top 20 rows\n",
      "\n"
     ]
    }
   ],
   "source": [
    "de=df[(~df['extras_type'].isin('byes','leg_byes')) & (df['overs'].between(15,19))]#filetring out runs conceded by byes or leg byes and only death overs\n",
    "runs_death=de.groupby('bowler').sum('total_runs')\n",
    "\n",
    "eco_death=res_d.join(runs_death,on='bowler')\n",
    "\n",
    "\n",
    "\n",
    "bow_eco_death=eco_death.withColumn(\"economic rate\", col('sum(total_runs)')/col(\"count\")).sort('economic rate')\n",
    "economic_rate=bow_eco_death[bow_eco_death['count'] > 30]\n",
    "economic_rate.select('bowler','economic rate').show()"
   ]
  },
  {
   "cell_type": "markdown",
   "metadata": {},
   "source": [
    "# Which bowlers have best economic rate in powerplay ipl?(only those have bowled over 30 overs)"
   ]
  },
  {
   "cell_type": "code",
   "execution_count": 48,
   "metadata": {},
   "outputs": [],
   "source": [
    "poww=df[df['overs'].between(0,5)]\n",
    "poww_play=poww.groupby(['match_id','bowler','overs']).count()\n",
    "poww_overs=poww_play[poww_play['count'] >= 6]\n",
    "res_p=poww_overs.groupby('bowler').count()"
   ]
  },
  {
   "cell_type": "code",
   "execution_count": 49,
   "metadata": {},
   "outputs": [
    {
     "name": "stdout",
     "output_type": "stream",
     "text": [
      "+-------------+------------------+\n",
      "|       bowler|     economic rate|\n",
      "+-------------+------------------+\n",
      "|    JC Archer|5.4035087719298245|\n",
      "|   GD McGrath| 5.891891891891892|\n",
      "|   SM Pollock| 6.147058823529412|\n",
      "|      B Kumar| 6.180672268907563|\n",
      "|    SP Narine| 6.347107438016529|\n",
      "|Iqbal Abdulla| 6.369565217391305|\n",
      "|   WPUJC Vaas| 6.393939393939394|\n",
      "|     DW Steyn| 6.417989417989418|\n",
      "|   SL Malinga| 6.454054054054054|\n",
      "|BW Hilfenhaus|               6.5|\n",
      "|    DP Nannes| 6.543859649122807|\n",
      "|     R Ashwin| 6.565789473684211|\n",
      "|    JJ Bumrah| 6.672727272727273|\n",
      "|    RJ Harris|  6.76056338028169|\n",
      "|    YK Pathan| 6.796610169491525|\n",
      "|      A Singh| 6.909090909090909|\n",
      "|      P Kumar| 6.912213740458015|\n",
      "|       Z Khan| 6.925581395348837|\n",
      "|        B Lee|  7.08641975308642|\n",
      "|    IC Pandey| 7.090909090909091|\n",
      "+-------------+------------------+\n",
      "only showing top 20 rows\n",
      "\n"
     ]
    }
   ],
   "source": [
    "po=df[(~df['extras_type'].isin('byes','leg_byes')) & (df['overs'].between(0,5))]#filetring out runs conceded by byes or leg byes and only death overs\n",
    "po_runs=po.groupby('bowler').sum('total_runs')\n",
    "\n",
    "eco_pow=res_p.join(po_runs,on='bowler')\n",
    "\n",
    "\n",
    "\n",
    "bow_eco_pow=eco_pow.withColumn(\"economic rate\", col('sum(total_runs)')/col(\"count\")).sort('economic rate')\n",
    "economic_rate_pow=bow_eco_pow[bow_eco_pow['count'] > 30]\n",
    "economic_rate_pow.select('bowler','economic rate').show()\n"
   ]
  },
  {
   "cell_type": "markdown",
   "metadata": {},
   "source": [
    "# Which bowlers have taken most wickets in ipl?"
   ]
  },
  {
   "cell_type": "code",
   "execution_count": 50,
   "metadata": {},
   "outputs": [
    {
     "name": "stdout",
     "output_type": "stream",
     "text": [
      "+---------------+--------------+\n",
      "|         bowler|sum(is_wicket)|\n",
      "+---------------+--------------+\n",
      "|     SL Malinga|           170|\n",
      "|       A Mishra|           160|\n",
      "|      PP Chawla|           156|\n",
      "|       DJ Bravo|           153|\n",
      "|Harbhajan Singh|           150|\n",
      "|       R Ashwin|           138|\n",
      "|        B Kumar|           136|\n",
      "|      SP Narine|           127|\n",
      "|      YS Chahal|           121|\n",
      "|       UT Yadav|           119|\n",
      "|      RA Jadeja|           114|\n",
      "|      JJ Bumrah|           109|\n",
      "| Sandeep Sharma|           109|\n",
      "|        A Nehra|           106|\n",
      "|  R Vinay Kumar|           105|\n",
      "|         Z Khan|           103|\n",
      "|       DW Steyn|            97|\n",
      "|      SR Watson|            92|\n",
      "|      MM Sharma|            92|\n",
      "|       RP Singh|            90|\n",
      "+---------------+--------------+\n",
      "only showing top 20 rows\n",
      "\n"
     ]
    }
   ],
   "source": [
    "highest_wicket_taker=df[~df['dismissal_kind'].isin (['obstructing the field','run out']) ]#filtering out obstructing the field and run out dismissal kind \n",
    "result_2=highest_wicket_taker.groupBy('bowler').sum('is_wicket').sort('sum(is_wicket)',ascending=False)\n",
    "result_2.show()"
   ]
  },
  {
   "cell_type": "markdown",
   "metadata": {},
   "source": [
    "# Which bowlers have best bowling avg in ipl?(only those with 30+ wickets)"
   ]
  },
  {
   "cell_type": "code",
   "execution_count": 51,
   "metadata": {},
   "outputs": [
    {
     "name": "stdout",
     "output_type": "stream",
     "text": [
      "+---------------+------------------+\n",
      "|         bowler|       Bowling avg|\n",
      "+---------------+------------------+\n",
      "|       K Rabada|18.508196721311474|\n",
      "|   DE Bollinger|18.657894736842106|\n",
      "|     SL Malinga|20.341176470588234|\n",
      "|    Rashid Khan|20.906666666666666|\n",
      "|       MA Starc|21.205882352941178|\n",
      "|    Imran Tahir|           21.3125|\n",
      "|      JC Archer|21.565217391304348|\n",
      "|         AJ Tye|            22.175|\n",
      "|      YS Chahal|22.735537190082646|\n",
      "|NM Coulter-Nile|22.975609756097562|\n",
      "|       MM Patel| 23.31081081081081|\n",
      "|      S Aravind|23.488888888888887|\n",
      "|      KK Cooper|23.727272727272727|\n",
      "|        A Nehra| 23.91509433962264|\n",
      "|      RJ Harris|24.022222222222222|\n",
      "|       A Kumble|              24.2|\n",
      "|      JJ Bumrah|24.256880733944953|\n",
      "|        S Gopal|            24.375|\n",
      "|       A Mishra|          24.41875|\n",
      "|        B Kumar| 24.46323529411765|\n",
      "+---------------+------------------+\n",
      "only showing top 20 rows\n",
      "\n"
     ]
    }
   ],
   "source": [
    "bowl_a=result_2.join(runs_concc,on='bowler')\n",
    "\n",
    "\n",
    "bow_avg=bowl_a.withColumn(\"Bowling avg\", col('sum(total_runs)')/col(\"sum(is_wicket)\")).sort('Bowling avg')\n",
    "bowling_avg=bow_avg[bow_avg['sum(is_wicket)'] > 30]\n",
    "bowling_avg.select('bowler','Bowling avg').show()"
   ]
  },
  {
   "cell_type": "markdown",
   "metadata": {},
   "source": [
    "# Which bowlers have best bowling strike rate in ipl?"
   ]
  },
  {
   "cell_type": "code",
   "execution_count": 52,
   "metadata": {},
   "outputs": [],
   "source": [
    "no_of_balls=df.groupby('bowler').count()\n",
    "bow_str=result_2.join(no_of_balls,on='bowler')"
   ]
  },
  {
   "cell_type": "code",
   "execution_count": 53,
   "metadata": {},
   "outputs": [
    {
     "name": "stdout",
     "output_type": "stream",
     "text": [
      "+---------------+------------------+\n",
      "|         bowler|       Strike Rate|\n",
      "+---------------+------------------+\n",
      "|       K Rabada|13.770491803278688|\n",
      "|   DE Bollinger|15.789473684210526|\n",
      "|         AJ Tye|            16.125|\n",
      "|    Imran Tahir|            16.425|\n",
      "|     SL Malinga| 17.49411764705882|\n",
      "|      S Aravind|17.511111111111113|\n",
      "|       MA Starc|              18.0|\n",
      "|      YS Chahal|18.082644628099175|\n",
      "|      KK Cooper|18.181818181818183|\n",
      "|       TA Boult|18.285714285714285|\n",
      "|NM Coulter-Nile|18.317073170731707|\n",
      "|       DJ Bravo|18.601307189542485|\n",
      "|        A Nehra| 18.62264150943396|\n",
      "|      JC Archer|18.652173913043477|\n",
      "|       MM Patel|18.675675675675677|\n",
      "|        S Gopal|18.708333333333332|\n",
      "| Mohammed Siraj|              18.9|\n",
      "| MJ McClenaghan| 18.95774647887324|\n",
      "|      CH Morris|             19.15|\n",
      "|      RJ Harris| 19.22222222222222|\n",
      "+---------------+------------------+\n",
      "only showing top 20 rows\n",
      "\n"
     ]
    }
   ],
   "source": [
    "bow_strike=bow_str.withColumn(\"Strike Rate\", col('count')/col(\"sum(is_wicket)\")).sort('Strike Rate')\n",
    "bowling_strike=bow_strike[bow_strike['sum(is_wicket)'] > 30]\n",
    "bowling_strike.select('bowler','Strike Rate').show()"
   ]
  },
  {
   "cell_type": "markdown",
   "metadata": {},
   "source": [
    "# Which bowler has most wickets in death overs in ipl?"
   ]
  },
  {
   "cell_type": "code",
   "execution_count": 54,
   "metadata": {},
   "outputs": [
    {
     "name": "stdout",
     "output_type": "stream",
     "text": [
      "+--------------+--------------+\n",
      "|        bowler|sum(is_wicket)|\n",
      "+--------------+--------------+\n",
      "|    SL Malinga|           108|\n",
      "|      DJ Bravo|            95|\n",
      "|       B Kumar|            79|\n",
      "|     JJ Bumrah|            61|\n",
      "|     SP Narine|            60|\n",
      "|       A Nehra|            54|\n",
      "|      DW Steyn|            50|\n",
      "|      UT Yadav|            49|\n",
      "|     CH Morris|            48|\n",
      "| R Vinay Kumar|            47|\n",
      "|      RP Singh|            45|\n",
      "|    JD Unadkat|            44|\n",
      "|     SR Watson|            42|\n",
      "|     MM Sharma|            41|\n",
      "|      K Rabada|            41|\n",
      "|Sandeep Sharma|            38|\n",
      "|      A Mishra|            38|\n",
      "|     PP Chawla|            37|\n",
      "|Mohammed Shami|            37|\n",
      "|        Z Khan|            37|\n",
      "+--------------+--------------+\n",
      "only showing top 20 rows\n",
      "\n"
     ]
    }
   ],
   "source": [
    "death_wicket_taker=death[~death['dismissal_kind'].isin (['obstructing the field','run out']) ]#filtering out obstructing the field and run out dismissal kind \n",
    "death_wicket_taker.groupBy('bowler').sum('is_wicket').sort('sum(is_wicket)',ascending=False).show()\n"
   ]
  },
  {
   "cell_type": "markdown",
   "metadata": {},
   "source": [
    "# Which bowler has most wickets in power player overs in ipl?"
   ]
  },
  {
   "cell_type": "code",
   "execution_count": 55,
   "metadata": {},
   "outputs": [
    {
     "name": "stdout",
     "output_type": "stream",
     "text": [
      "+--------------+--------------+\n",
      "|        bowler|sum(is_wicket)|\n",
      "+--------------+--------------+\n",
      "|Sandeep Sharma|            53|\n",
      "|        Z Khan|            53|\n",
      "|       B Kumar|            48|\n",
      "|      UT Yadav|            45|\n",
      "|   DS Kulkarni|            44|\n",
      "|      I Sharma|            43|\n",
      "|      R Ashwin|            42|\n",
      "|       P Kumar|            40|\n",
      "|       A Nehra|            40|\n",
      "|    SL Malinga|            37|\n",
      "|      M Morkel|            36|\n",
      "|      RP Singh|            35|\n",
      "|     MM Sharma|            35|\n",
      "|      DW Steyn|            34|\n",
      "|     SR Watson|            34|\n",
      "|     JA Morkel|            34|\n",
      "|     DL Chahar|            33|\n",
      "|      AB Dinda|            33|\n",
      "|MJ McClenaghan|            31|\n",
      "| R Vinay Kumar|            30|\n",
      "+--------------+--------------+\n",
      "only showing top 20 rows\n",
      "\n"
     ]
    }
   ],
   "source": [
    "power=df[df['overs'].between(0,5)]\n",
    "power_wicket_taker=power[~power['dismissal_kind'].isin (['obstructing the field','run out']) ]#filtering out obstructing the field and run out dismissal kind \n",
    "power_wicket_taker.groupBy('bowler').sum('is_wicket').sort('sum(is_wicket)',ascending=False).show()"
   ]
  },
  {
   "cell_type": "markdown",
   "metadata": {},
   "source": [
    "# Which bowler has most 5 wickets haul in ipl?"
   ]
  },
  {
   "cell_type": "code",
   "execution_count": 56,
   "metadata": {},
   "outputs": [
    {
     "name": "stdout",
     "output_type": "stream",
     "text": [
      "+--------------+-----+\n",
      "|        bowler|count|\n",
      "+--------------+-----+\n",
      "|    JD Unadkat|    2|\n",
      "|   JP Faulkner|    2|\n",
      "|    AS Rajpoot|    1|\n",
      "|       B Kumar|    1|\n",
      "|AD Mascarenhas|    1|\n",
      "|      A Mishra|    1|\n",
      "|      A Kumble|    1|\n",
      "|    SL Malinga|    1|\n",
      "|        AJ Tye|    1|\n",
      "|      I Sharma|    1|\n",
      "+--------------+-----+\n",
      "only showing top 10 rows\n",
      "\n"
     ]
    }
   ],
   "source": [
    "fv=df[~df['dismissal_kind'].isin('obstructing the field','run out','retired hurt')]\n",
    "five=fv.groupby(['match_id','bowler']).sum('is_wicket')\n",
    "five_wickets=five[(five['sum(is_wicket)'] >= 5)]\n",
    "five_wickets.groupby('bowler').count().sort('count',ascending=False).show(10)"
   ]
  },
  {
   "cell_type": "markdown",
   "metadata": {},
   "source": [
    "# Which bowler has most wickets by bowling out the batsman?when batsman is bowled"
   ]
  },
  {
   "cell_type": "code",
   "execution_count": 57,
   "metadata": {},
   "outputs": [
    {
     "name": "stdout",
     "output_type": "stream",
     "text": [
      "+---------------+--------------+\n",
      "|         bowler|sum(is_wicket)|\n",
      "+---------------+--------------+\n",
      "|     SL Malinga|            63|\n",
      "|      PP Chawla|            43|\n",
      "|      SP Narine|            36|\n",
      "|        B Kumar|            36|\n",
      "|      RA Jadeja|            29|\n",
      "|Harbhajan Singh|            29|\n",
      "|       DW Steyn|            26|\n",
      "|      JJ Bumrah|            26|\n",
      "|      YS Chahal|            25|\n",
      "|       RP Singh|            25|\n",
      "|       A Mishra|            25|\n",
      "|       R Ashwin|            24|\n",
      "|        A Nehra|            23|\n",
      "|    Rashid Khan|            22|\n",
      "|      IK Pathan|            22|\n",
      "|       AR Patel|            22|\n",
      "|         Z Khan|            22|\n",
      "|       UT Yadav|            21|\n",
      "|      MM Sharma|            21|\n",
      "| Sandeep Sharma|            21|\n",
      "+---------------+--------------+\n",
      "only showing top 20 rows\n",
      "\n"
     ]
    }
   ],
   "source": [
    "bow_bowled=df[df['dismissal_kind']=='bowled']\n",
    "bow_bowled.groupby('bowler').sum('is_wicket').sort('sum(is_wicket)',ascending=False).show()"
   ]
  },
  {
   "cell_type": "markdown",
   "metadata": {},
   "source": [
    "# Which bowler has most wickets by lbw?"
   ]
  },
  {
   "cell_type": "code",
   "execution_count": 58,
   "metadata": {},
   "outputs": [
    {
     "name": "stdout",
     "output_type": "stream",
     "text": [
      "+---------------+--------------+\n",
      "|         bowler|sum(is_wicket)|\n",
      "+---------------+--------------+\n",
      "|    Rashid Khan|            18|\n",
      "|      PP Chawla|            17|\n",
      "|      SP Narine|            17|\n",
      "|       R Ashwin|            15|\n",
      "| Sandeep Sharma|            14|\n",
      "|       A Mishra|            13|\n",
      "|      JJ Bumrah|            11|\n",
      "|     SL Malinga|            11|\n",
      "|      RA Jadeja|            11|\n",
      "|         Z Khan|             9|\n",
      "|       UT Yadav|             9|\n",
      "| M Muralitharan|             9|\n",
      "|       R Sharma|             8|\n",
      "|Harbhajan Singh|             8|\n",
      "|        B Kumar|             8|\n",
      "|    Imran Tahir|             7|\n",
      "|      JA Morkel|             7|\n",
      "|       R Bhatia|             6|\n",
      "|  Iqbal Abdulla|             6|\n",
      "|      JH Kallis|             6|\n",
      "+---------------+--------------+\n",
      "only showing top 20 rows\n",
      "\n"
     ]
    }
   ],
   "source": [
    "bow_lbw=df[df['dismissal_kind']=='lbw']\n",
    "bow_lbw.groupby('bowler').sum('is_wicket').sort('sum(is_wicket)',ascending=False).show()"
   ]
  },
  {
   "cell_type": "markdown",
   "metadata": {},
   "source": [
    "# Which teams have bowled out the oppenets most number of times?(Taking 10 wickets in a match)"
   ]
  },
  {
   "cell_type": "code",
   "execution_count": 59,
   "metadata": {},
   "outputs": [
    {
     "name": "stdout",
     "output_type": "stream",
     "text": [
      "+--------------------+-----+\n",
      "|        bowling_team|count|\n",
      "+--------------------+-----+\n",
      "|      Mumbai Indians|   26|\n",
      "| Chennai Super Kings|   18|\n",
      "|Royal Challengers...|   17|\n",
      "|    Rajasthan Royals|   15|\n",
      "| Sunrisers Hyderabad|   14|\n",
      "|     Kings XI Punjab|   14|\n",
      "|Kolkata Knight Ri...|   11|\n",
      "|    Delhi Daredevils|   10|\n",
      "|     Deccan Chargers|    6|\n",
      "|       Gujarat Lions|    3|\n",
      "|      Delhi Capitals|    2|\n",
      "|Rising Pune Super...|    2|\n",
      "|Kochi Tuskers Kerala|    1|\n",
      "+--------------------+-----+\n",
      "\n"
     ]
    }
   ],
   "source": [
    "bowled=df.groupby(['match_id','bowling_team']).sum('is_wicket')\n",
    "most_bowed=bowled[bowled['sum(is_wicket)'] == 10]\n",
    "most_bowed.groupby('bowling_team').count().sort('count',ascending=False).show()"
   ]
  },
  {
   "cell_type": "markdown",
   "metadata": {},
   "source": [
    "# Highest wicketakers by each Team"
   ]
  },
  {
   "cell_type": "code",
   "execution_count": 60,
   "metadata": {},
   "outputs": [
    {
     "name": "stdout",
     "output_type": "stream",
     "text": [
      "+--------------------+-------------+--------------+----+\n",
      "|        bowling_team|       bowler|sum(is_wicket)|rank|\n",
      "+--------------------+-------------+--------------+----+\n",
      "| Sunrisers Hyderabad|      B Kumar|           121|   1|\n",
      "| Chennai Super Kings|     DJ Bravo|           126|   1|\n",
      "|                  NA|   TG Southee|             3|   1|\n",
      "|Rising Pune Super...|   JD Unadkat|            27|   1|\n",
      "|     Deccan Chargers|      PP Ojha|            66|   1|\n",
      "|Kochi Tuskers Kerala|R Vinay Kumar|            17|   1|\n",
      "|    Rajasthan Royals|   SK Trivedi|            73|   1|\n",
      "|       Gujarat Lions|  DS Kulkarni|            23|   1|\n",
      "|Royal Challengers...|    YS Chahal|           124|   1|\n",
      "|Kolkata Knight Ri...|    SP Narine|           143|   1|\n",
      "|Rising Pune Super...|     AB Dinda|            13|   1|\n",
      "|     Kings XI Punjab|    PP Chawla|            89|   1|\n",
      "|       Pune Warriors|     R Sharma|            35|   1|\n",
      "|    Delhi Daredevils|     A Mishra|            91|   1|\n",
      "|      Delhi Capitals|     K Rabada|            58|   1|\n",
      "|      Mumbai Indians|   SL Malinga|           188|   1|\n",
      "+--------------------+-------------+--------------+----+\n",
      "\n"
     ]
    }
   ],
   "source": [
    "team_wic=df.groupby('bowling_team','bowler').sum('is_wicket').sort('sum(is_wicket)',ascending=False)\n",
    "window_4 = Window.partitionBy('bowling_team').orderBy(col('sum(is_wicket)').desc())\n",
    "team_high=team_wic.withColumn('rank',rank().over(window_4))\n",
    "team_high[team_high['rank']==1].show()"
   ]
  },
  {
   "cell_type": "markdown",
   "metadata": {},
   "source": [
    "# Highest run getters by each Team"
   ]
  },
  {
   "cell_type": "code",
   "execution_count": 61,
   "metadata": {},
   "outputs": [
    {
     "name": "stdout",
     "output_type": "stream",
     "text": [
      "+--------------------+------------+-----------------+----+\n",
      "|        batting_team|     batsman|sum(batsman_runs)|rank|\n",
      "+--------------------+------------+-----------------+----+\n",
      "| Sunrisers Hyderabad|   DA Warner|             3819|   1|\n",
      "| Chennai Super Kings|    SK Raina|             4527|   1|\n",
      "|Rising Pune Super...|   SPD Smith|              472|   1|\n",
      "|     Deccan Chargers|AC Gilchrist|             1220|   1|\n",
      "|Kochi Tuskers Kerala| BB McCullum|              357|   1|\n",
      "|    Rajasthan Royals|   AM Rahane|             2810|   1|\n",
      "|       Gujarat Lions|    SK Raina|              841|   1|\n",
      "|Royal Challengers...|     V Kohli|             5878|   1|\n",
      "|Kolkata Knight Ri...|   G Gambhir|             3035|   1|\n",
      "|Rising Pune Super...|   AM Rahane|              480|   1|\n",
      "|     Kings XI Punjab|    SE Marsh|             2477|   1|\n",
      "|       Pune Warriors|  RV Uthappa|             1103|   1|\n",
      "|    Delhi Daredevils|    V Sehwag|             2174|   1|\n",
      "|      Delhi Capitals|    S Dhawan|             1139|   1|\n",
      "|      Mumbai Indians|   RG Sharma|             4060|   1|\n",
      "+--------------------+------------+-----------------+----+\n",
      "\n"
     ]
    }
   ],
   "source": [
    "team_runs=df.groupby('batting_team','batsman').sum('batsman_runs')\n",
    "window_5 = Window.partitionBy('batting_team').orderBy(col('sum(batsman_runs)').desc())\n",
    "team_high_runs=team_runs.withColumn('rank',rank().over(window_5))\n",
    "team_high_runs[team_high_runs['rank']==1].show()"
   ]
  },
  {
   "cell_type": "markdown",
   "metadata": {},
   "source": [
    "# Which players have scored more than 1000 runs and has more than 20 wickets ?"
   ]
  },
  {
   "cell_type": "code",
   "execution_count": 62,
   "metadata": {},
   "outputs": [
    {
     "name": "stdout",
     "output_type": "stream",
     "text": [
      "+------------+----+------------+--------------+\n",
      "|     Batsman|Runs|      bowler|sum(is_wicket)|\n",
      "+------------+----+------------+--------------+\n",
      "|  KA Pollard|3023|  KA Pollard|            60|\n",
      "|    DR Smith|2385|    DR Smith|            26|\n",
      "|   YK Pathan|3204|   YK Pathan|            42|\n",
      "|   HH Pandya|1349|   HH Pandya|            42|\n",
      "|   JH Kallis|2427|   JH Kallis|            65|\n",
      "|  AD Russell|1517|  AD Russell|            61|\n",
      "|    DJ Bravo|1490|    DJ Bravo|           153|\n",
      "|    SK Raina|5368|    SK Raina|            25|\n",
      "|Yuvraj Singh|2750|Yuvraj Singh|            36|\n",
      "|   SR Watson|3874|   SR Watson|            92|\n",
      "|   IK Pathan|1139|   IK Pathan|            80|\n",
      "|   RA Jadeja|2159|   RA Jadeja|           114|\n",
      "|   JP Duminy|2029|   JP Duminy|            23|\n",
      "+------------+----+------------+--------------+\n",
      "\n"
     ]
    }
   ],
   "source": [
    "all_rounder=total_runs.join(result_2,total_runs.Batsman==result_2.bowler,'inner')\n",
    "all_rounder[(all_rounder['Runs'] > 1000) & (all_rounder['sum(is_wicket)'] > 20)].show()"
   ]
  },
  {
   "cell_type": "markdown",
   "metadata": {},
   "source": [
    "# Which teams have scored most runs in a single match?"
   ]
  },
  {
   "cell_type": "code",
   "execution_count": 63,
   "metadata": {},
   "outputs": [
    {
     "name": "stdout",
     "output_type": "stream",
     "text": [
      "+--------+--------------------+---------------+\n",
      "|match_id|        batting_team|sum(total_runs)|\n",
      "+--------+--------------------+---------------+\n",
      "|  598027|Royal Challengers...|            263|\n",
      "|  980987|Royal Challengers...|            248|\n",
      "|  419137| Chennai Super Kings|            246|\n",
      "| 1136604|Kolkata Knight Ri...|            245|\n",
      "|  335983| Chennai Super Kings|            240|\n",
      "|  829795|Royal Challengers...|            235|\n",
      "|  501260|     Kings XI Punjab|            232|\n",
      "| 1178422|Kolkata Knight Ri...|            232|\n",
      "| 1175366| Sunrisers Hyderabad|            231|\n",
      "|  733987|     Kings XI Punjab|            231|\n",
      "|  501223|    Delhi Daredevils|            231|\n",
      "| 1082641|     Kings XI Punjab|            230|\n",
      "| 1216515|      Delhi Capitals|            228|\n",
      "|  980907|Royal Challengers...|            227|\n",
      "| 1216527|    Rajasthan Royals|            226|\n",
      "|  734047|     Kings XI Punjab|            226|\n",
      "|  829785|Royal Challengers...|            226|\n",
      "|  598051| Chennai Super Kings|            223|\n",
      "| 1216527|     Kings XI Punjab|            223|\n",
      "|  419137|    Rajasthan Royals|            223|\n",
      "+--------+--------------------+---------------+\n",
      "only showing top 20 rows\n",
      "\n"
     ]
    }
   ],
   "source": [
    "high=df.groupby(['match_id','batting_team']).sum('total_runs').sort('sum(total_runs)',ascending=False)\n",
    "high.show()"
   ]
  },
  {
   "cell_type": "markdown",
   "metadata": {},
   "source": [
    "# Which teams have scored 200+ plus runs  most number of times? "
   ]
  },
  {
   "cell_type": "code",
   "execution_count": 64,
   "metadata": {},
   "outputs": [
    {
     "name": "stdout",
     "output_type": "stream",
     "text": [
      "+--------------------+-----+\n",
      "|        batting_team|count|\n",
      "+--------------------+-----+\n",
      "|Royal Challengers...|   19|\n",
      "| Chennai Super Kings|   17|\n",
      "|     Kings XI Punjab|   14|\n",
      "|      Mumbai Indians|   14|\n",
      "|Kolkata Knight Ri...|   12|\n",
      "| Sunrisers Hyderabad|   12|\n",
      "|    Rajasthan Royals|    9|\n",
      "|    Delhi Daredevils|    5|\n",
      "|      Delhi Capitals|    2|\n",
      "|     Deccan Chargers|    1|\n",
      "|       Gujarat Lions|    1|\n",
      "+--------------------+-----+\n",
      "\n"
     ]
    }
   ],
   "source": [
    "plus_200=high[high['sum(total_runs)'] >= 200]\n",
    "plus_200.groupby('batting_team').count().sort('count',ascending=False).show()"
   ]
  },
  {
   "cell_type": "markdown",
   "metadata": {},
   "source": [
    "# Which team has given most number of extra runs in ipl?"
   ]
  },
  {
   "cell_type": "code",
   "execution_count": 65,
   "metadata": {},
   "outputs": [
    {
     "name": "stdout",
     "output_type": "stream",
     "text": [
      "+--------------------+----------+\n",
      "|        bowling_team|extra_runs|\n",
      "+--------------------+----------+\n",
      "|      Mumbai Indians|    1085.0|\n",
      "|Royal Challengers...|    1041.0|\n",
      "|     Kings XI Punjab|     989.0|\n",
      "|Kolkata Knight Ri...|     890.0|\n",
      "|    Rajasthan Royals|     825.0|\n",
      "| Chennai Super Kings|     793.0|\n",
      "|    Delhi Daredevils|     750.0|\n",
      "| Sunrisers Hyderabad|     452.0|\n",
      "|     Deccan Chargers|     382.0|\n",
      "|       Pune Warriors|     198.0|\n",
      "|      Delhi Capitals|     148.0|\n",
      "|       Gujarat Lions|     114.0|\n",
      "|Rising Pune Super...|      81.0|\n",
      "|Rising Pune Super...|      70.0|\n",
      "|Kochi Tuskers Kerala|      64.0|\n",
      "|                  NA|      10.0|\n",
      "+--------------------+----------+\n",
      "\n"
     ]
    }
   ],
   "source": [
    "spark.sql(\n",
    "\"\"\"\n",
    "select bowling_team,SUM(extra_runs) AS extra_runs from balls\n",
    "where extras_type  in ('wides','penalty','noballs')\n",
    "group by bowling_team\n",
    "order by extra_runs desc;\n",
    "\n",
    "\"\"\"\n",
    ").show()"
   ]
  },
  {
   "cell_type": "markdown",
   "metadata": {},
   "source": [
    "# Which player has given most number of extra runs in ipl?"
   ]
  },
  {
   "cell_type": "code",
   "execution_count": 66,
   "metadata": {},
   "outputs": [
    {
     "name": "stdout",
     "output_type": "stream",
     "text": [
      "+---------------+----------+\n",
      "|         bowler|extra_runs|\n",
      "+---------------+----------+\n",
      "|     SL Malinga|     177.0|\n",
      "|        P Kumar|     145.0|\n",
      "|       DJ Bravo|     139.0|\n",
      "|       UT Yadav|     132.0|\n",
      "|        B Kumar|     121.0|\n",
      "|       I Sharma|     119.0|\n",
      "|       R Ashwin|     119.0|\n",
      "|       DW Steyn|     117.0|\n",
      "|      SR Watson|     111.0|\n",
      "|    DS Kulkarni|     108.0|\n",
      "|      JA Morkel|     103.0|\n",
      "|       RP Singh|     102.0|\n",
      "|Harbhajan Singh|      99.0|\n",
      "|     KA Pollard|      94.0|\n",
      "|         Z Khan|      91.0|\n",
      "|       AB Dinda|      86.0|\n",
      "|       M Morkel|      84.0|\n",
      "|        SW Tait|      83.0|\n",
      "|    S Sreesanth|      82.0|\n",
      "|      IK Pathan|      80.0|\n",
      "+---------------+----------+\n",
      "only showing top 20 rows\n",
      "\n"
     ]
    }
   ],
   "source": [
    "spark.sql(\n",
    "\"\"\"\n",
    "select bowler,SUM(extra_runs) AS extra_runs from balls\n",
    "where extras_type  in ('wides','penalty','noballs')\n",
    "group by bowler\n",
    "order by extra_runs desc;\n",
    "\n",
    "\"\"\"\n",
    ").show()"
   ]
  },
  {
   "cell_type": "markdown",
   "metadata": {},
   "source": [
    "# Which player has conceded most number of sixes in ipl?"
   ]
  },
  {
   "cell_type": "code",
   "execution_count": 67,
   "metadata": {},
   "outputs": [
    {
     "name": "stdout",
     "output_type": "stream",
     "text": [
      "+---------------+--------+\n",
      "|         bowler|count(1)|\n",
      "+---------------+--------+\n",
      "|      PP Chawla|     181|\n",
      "|       A Mishra|     172|\n",
      "|      RA Jadeja|     148|\n",
      "|Harbhajan Singh|     142|\n",
      "|       DJ Bravo|     138|\n",
      "|       R Ashwin|     135|\n",
      "|      YS Chahal|     135|\n",
      "|       UT Yadav|     116|\n",
      "|     JD Unadkat|     108|\n",
      "|      SP Narine|     107|\n",
      "|        P Kumar|     104|\n",
      "|  R Vinay Kumar|      98|\n",
      "|        PP Ojha|      97|\n",
      "|       AR Patel|      96|\n",
      "| Sandeep Sharma|      93|\n",
      "|      KV Sharma|      91|\n",
      "|        B Kumar|      88|\n",
      "|     SL Malinga|      86|\n",
      "|    Imran Tahir|      83|\n",
      "|      IK Pathan|      82|\n",
      "+---------------+--------+\n",
      "only showing top 20 rows\n",
      "\n"
     ]
    }
   ],
   "source": [
    "spark.sql(\n",
    "\"\"\"\n",
    "select bowler,count(*) from balls\n",
    "where batsman_runs = '6'\n",
    "group by bowler\n",
    "order by count(1) desc;\n",
    ";\n",
    "\n",
    "\"\"\"\n",
    ").show()"
   ]
  },
  {
   "cell_type": "markdown",
   "metadata": {},
   "source": [
    "# Which player has been run-out  most number of times?"
   ]
  },
  {
   "cell_type": "code",
   "execution_count": 68,
   "metadata": {},
   "outputs": [
    {
     "name": "stdout",
     "output_type": "stream",
     "text": [
      "+----------------+--------+\n",
      "|player_dismissed|count(1)|\n",
      "+----------------+--------+\n",
      "|       G Gambhir|      16|\n",
      "|        S Dhawan|      15|\n",
      "|        SK Raina|      13|\n",
      "|       AT Rayudu|      13|\n",
      "|         M Vijay|      12|\n",
      "|      KD Karthik|      12|\n",
      "|  AB de Villiers|      12|\n",
      "| Y Venugopal Rao|      11|\n",
      "|       YK Pathan|      11|\n",
      "|        PA Patel|      10|\n",
      "|        A Mishra|      10|\n",
      "|       RG Sharma|      10|\n",
      "|         P Kumar|      10|\n",
      "|        MS Dhoni|       9|\n",
      "|    F du Plessis|       9|\n",
      "|       IK Pathan|       9|\n",
      "|      RV Uthappa|       9|\n",
      "|       SR Watson|       9|\n",
      "|        AM Nayar|       8|\n",
      "|DPMD Jayawardene|       8|\n",
      "+----------------+--------+\n",
      "only showing top 20 rows\n",
      "\n"
     ]
    }
   ],
   "source": [
    "spark.sql(\n",
    "\"\"\"\n",
    "select player_dismissed,count(*) from balls\n",
    "where dismissal_kind == 'run out'\n",
    "group by player_dismissed\n",
    "order by count(1) desc\n",
    "\"\"\"\n",
    ").show()"
   ]
  },
  {
   "cell_type": "markdown",
   "metadata": {},
   "source": [
    "# Which batsman has been hit wicket most number of times?"
   ]
  },
  {
   "cell_type": "code",
   "execution_count": 69,
   "metadata": {},
   "outputs": [
    {
     "name": "stdout",
     "output_type": "stream",
     "text": [
      "+-------------+--------+\n",
      "|      batsman|count(1)|\n",
      "+-------------+--------+\n",
      "|    HH Pandya|       1|\n",
      "|  SA Asnodkar|       1|\n",
      "|     MA Khote|       1|\n",
      "| Yuvraj Singh|       1|\n",
      "|Misbah-ul-Haq|       1|\n",
      "|   SP Jackson|       1|\n",
      "|  Rashid Khan|       1|\n",
      "|      R Parag|       1|\n",
      "|    SS Tiwary|       1|\n",
      "|     DJ Hooda|       1|\n",
      "|    RA Jadeja|       1|\n",
      "|    DA Warner|       1|\n",
      "+-------------+--------+\n",
      "\n"
     ]
    }
   ],
   "source": [
    "spark.sql(\n",
    "\"\"\"\n",
    "select batsman,count(*) from balls\n",
    "where dismissal_kind == 'hit wicket'\n",
    "group by batsman\n",
    "order by count(1) desc\n",
    "\"\"\"\n",
    ").show()"
   ]
  },
  {
   "cell_type": "markdown",
   "metadata": {},
   "source": [
    "# Which player has taken most number of caught and bowled?"
   ]
  },
  {
   "cell_type": "code",
   "execution_count": 70,
   "metadata": {},
   "outputs": [
    {
     "name": "stdout",
     "output_type": "stream",
     "text": [
      "+---------------+--------+\n",
      "|         bowler|count(1)|\n",
      "+---------------+--------+\n",
      "|Harbhajan Singh|      11|\n",
      "|       DJ Bravo|      11|\n",
      "|      SP Narine|       7|\n",
      "|     KA Pollard|       6|\n",
      "|      PP Chawla|       6|\n",
      "|     SL Malinga|       6|\n",
      "|        S Gopal|       6|\n",
      "|       SK Warne|       5|\n",
      "|       S Nadeem|       5|\n",
      "|     JD Unadkat|       5|\n",
      "|    Imran Tahir|       5|\n",
      "|      RA Jadeja|       5|\n",
      "|  Kuldeep Yadav|       5|\n",
      "|        B Kumar|       5|\n",
      "|     A Chandila|       5|\n",
      "|    DS Kulkarni|       4|\n",
      "|       R Ashwin|       4|\n",
      "|       AR Patel|       4|\n",
      "|  R Vinay Kumar|       4|\n",
      "|      YS Chahal|       3|\n",
      "+---------------+--------+\n",
      "only showing top 20 rows\n",
      "\n"
     ]
    }
   ],
   "source": [
    "spark.sql(\n",
    "\"\"\"\n",
    "select bowler,count(*) from balls\n",
    "where dismissal_kind == 'caught and bowled'\n",
    "group by bowler\n",
    "order by count(1) desc\n",
    "\"\"\"\n",
    ").show()"
   ]
  },
  {
   "cell_type": "markdown",
   "metadata": {},
   "source": [
    "# Which player has taken most number of catches?"
   ]
  },
  {
   "cell_type": "code",
   "execution_count": 71,
   "metadata": {},
   "outputs": [
    {
     "name": "stdout",
     "output_type": "stream",
     "text": [
      "+--------------+--------+\n",
      "|       fielder|count(1)|\n",
      "+--------------+--------+\n",
      "|    KD Karthik|     118|\n",
      "|      MS Dhoni|     113|\n",
      "|AB de Villiers|     103|\n",
      "|      SK Raina|      99|\n",
      "|     RG Sharma|      88|\n",
      "|    RV Uthappa|      87|\n",
      "|    KA Pollard|      84|\n",
      "|       V Kohli|      76|\n",
      "|      S Dhawan|      73|\n",
      "|     MK Pandey|      70|\n",
      "|      PA Patel|      69|\n",
      "|     DA Warner|      66|\n",
      "|       NV Ojha|      65|\n",
      "|      DJ Bravo|      64|\n",
      "|     RA Jadeja|      63|\n",
      "|       WP Saha|      62|\n",
      "|     AM Rahane|      58|\n",
      "|     AT Rayudu|      56|\n",
      "|  F du Plessis|      54|\n",
      "|     SV Samson|      52|\n",
      "+--------------+--------+\n",
      "only showing top 20 rows\n",
      "\n"
     ]
    }
   ],
   "source": [
    "spark.sql(\n",
    "\"\"\"\n",
    "select fielder,count(*) from balls\n",
    "where dismissal_kind == 'caught'\n",
    "group by fielder\n",
    "order by count(1) desc\n",
    "\"\"\"\n",
    ").show()"
   ]
  },
  {
   "cell_type": "markdown",
   "metadata": {},
   "source": [
    "# Which player has most stumpings?"
   ]
  },
  {
   "cell_type": "code",
   "execution_count": 72,
   "metadata": {},
   "outputs": [
    {
     "name": "stdout",
     "output_type": "stream",
     "text": [
      "+--------------+--------+\n",
      "|       fielder|count(1)|\n",
      "+--------------+--------+\n",
      "|      MS Dhoni|      39|\n",
      "|    RV Uthappa|      32|\n",
      "|    KD Karthik|      30|\n",
      "|       WP Saha|      20|\n",
      "|      PA Patel|      16|\n",
      "|  AC Gilchrist|      16|\n",
      "|     Q de Kock|      12|\n",
      "|       RR Pant|      11|\n",
      "|       NV Ojha|      10|\n",
      "| KC Sangakkara|       9|\n",
      "|AB de Villiers|       8|\n",
      "|    SP Goswami|       7|\n",
      "|     KM Jadhav|       7|\n",
      "|      MS Bisla|       7|\n",
      "|     SV Samson|       6|\n",
      "|   BB McCullum|       6|\n",
      "|       AP Tare|       5|\n",
      "|     DH Yagnik|       5|\n",
      "|      KL Rahul|       5|\n",
      "|   YV Takawale|       4|\n",
      "+--------------+--------+\n",
      "only showing top 20 rows\n",
      "\n"
     ]
    }
   ],
   "source": [
    "spark.sql(\n",
    "\"\"\"\n",
    "select fielder,count(*) from balls\n",
    "where dismissal_kind == 'stumped'\n",
    "group by fielder\n",
    "order by count(1) desc\n",
    "\"\"\"\n",
    ").show()"
   ]
  },
  {
   "cell_type": "markdown",
   "metadata": {},
   "source": [
    "# Which team has won most number of matches in IPL?"
   ]
  },
  {
   "cell_type": "code",
   "execution_count": 73,
   "metadata": {},
   "outputs": [
    {
     "name": "stdout",
     "output_type": "stream",
     "text": [
      "+--------------------+-------------+\n",
      "|              winner|count(winner)|\n",
      "+--------------------+-------------+\n",
      "|      Mumbai Indians|          120|\n",
      "| Chennai Super Kings|          106|\n",
      "|Kolkata Knight Ri...|           99|\n",
      "|Royal Challengers...|           91|\n",
      "|     Kings XI Punjab|           88|\n",
      "|    Rajasthan Royals|           81|\n",
      "|    Delhi Daredevils|           67|\n",
      "| Sunrisers Hyderabad|           66|\n",
      "|     Deccan Chargers|           29|\n",
      "|      Delhi Capitals|           19|\n",
      "|       Gujarat Lions|           13|\n",
      "|       Pune Warriors|           12|\n",
      "|Rising Pune Super...|           10|\n",
      "|Kochi Tuskers Kerala|            6|\n",
      "|Rising Pune Super...|            5|\n",
      "|                  NA|            4|\n",
      "+--------------------+-------------+\n",
      "\n"
     ]
    }
   ],
   "source": [
    "spark.sql(\n",
    "\"\"\"\n",
    "select winner,count(winner) from matches\n",
    "group by winner\n",
    "order by count(winner) desc \n",
    "\"\"\").show()"
   ]
  },
  {
   "cell_type": "markdown",
   "metadata": {},
   "source": [
    "# Which team has best winning percentage in IPL?"
   ]
  },
  {
   "cell_type": "code",
   "execution_count": 74,
   "metadata": {
    "application/vnd.databricks.v1+cell": {
     "inputWidgets": {},
     "nuid": "1b606a8e-956c-462d-8bc5-e8261190da77",
     "showTitle": false,
     "title": ""
    }
   },
   "outputs": [],
   "source": [
    "matches=spark.sql(\n",
    "\"\"\"\n",
    "\n",
    "select matches_played, count(*)\n",
    "from ((select team1 as matches_played from matches) union all\n",
    "      (select team2 from matches)\n",
    "     ) matches\n",
    "group by matches_played\n",
    "\"\"\")"
   ]
  },
  {
   "cell_type": "code",
   "execution_count": 75,
   "metadata": {},
   "outputs": [],
   "source": [
    "winnerss=spark.sql(\n",
    "\"\"\"\n",
    "select winner,count(winner) from matches\n",
    "group by winner\n",
    "\"\"\")"
   ]
  },
  {
   "cell_type": "code",
   "execution_count": 76,
   "metadata": {},
   "outputs": [
    {
     "name": "stdout",
     "output_type": "stream",
     "text": [
      "+--------------------+------------------+\n",
      "|              winner|Winning Percentage|\n",
      "+--------------------+------------------+\n",
      "| Chennai Super Kings|59.550561797752806|\n",
      "|      Mumbai Indians| 59.11330049261084|\n",
      "| Sunrisers Hyderabad|53.225806451612904|\n",
      "|Kolkata Knight Ri...|           51.5625|\n",
      "|    Rajasthan Royals| 50.31055900621118|\n",
      "|Royal Challengers...|46.666666666666664|\n",
      "|     Kings XI Punjab| 46.31578947368421|\n",
      "|    Delhi Daredevils| 41.61490683229814|\n",
      "|     Deccan Chargers|38.666666666666664|\n",
      "+--------------------+------------------+\n",
      "\n"
     ]
    }
   ],
   "source": [
    "winning=matches.join(winnerss,winnerss.winner==matches.matches_played,'inner')\n",
    "winning_per=winning.withColumn(\"Winning Percentage\", col('count(winner)')*100/col(\"count(1)\")).sort('Winning Percentage',ascending=False)\n",
    "win=winning_per[winning_per['count(winner)'] >= 20]\n",
    "win.select('winner','Winning Percentage').show()"
   ]
  },
  {
   "cell_type": "markdown",
   "metadata": {
    "application/vnd.databricks.v1+cell": {
     "inputWidgets": {},
     "nuid": "97f4a423-4231-441c-b043-23eddbd1d961",
     "showTitle": false,
     "title": ""
    }
   },
   "source": [
    "# Which team won the match by biggest margin?"
   ]
  },
  {
   "cell_type": "code",
   "execution_count": 77,
   "metadata": {
    "application/vnd.databricks.v1+cell": {
     "inputWidgets": {},
     "nuid": "1d995b80-838d-4fbf-9d28-8c5e788a0498",
     "showTitle": false,
     "title": ""
    }
   },
   "outputs": [
    {
     "name": "stdout",
     "output_type": "stream",
     "text": [
      "+--------+-------------------+-------------+\n",
      "|match_id|             winner|result_margin|\n",
      "+--------+-------------------+-------------+\n",
      "|  419114|     Mumbai Indians|           98|\n",
      "| 1216510|    Kings XI Punjab|           97|\n",
      "| 1082599|   Delhi Daredevils|           97|\n",
      "|  829753|Chennai Super Kings|           97|\n",
      "|  729293|Chennai Super Kings|           93|\n",
      "+--------+-------------------+-------------+\n",
      "only showing top 5 rows\n",
      "\n"
     ]
    }
   ],
   "source": [
    "spark.sql(\n",
    "\"\"\"\n",
    "select match_id,winner,result_margin from matches\n",
    "where result_margin != 'NA'\n",
    "order by result_margin desc \n",
    "\"\"\").show(5)"
   ]
  },
  {
   "cell_type": "markdown",
   "metadata": {},
   "source": [
    "# Which player has most man of  match awards in netural venue?"
   ]
  },
  {
   "cell_type": "code",
   "execution_count": 78,
   "metadata": {
    "application/vnd.databricks.v1+cell": {
     "inputWidgets": {},
     "nuid": "908b2f3c-4b25-45a1-93c7-e477f6ce5e35",
     "showTitle": false,
     "title": ""
    }
   },
   "outputs": [
    {
     "name": "stdout",
     "output_type": "stream",
     "text": [
      "+----------------+----------------------+\n",
      "| player_of_match|count(player_of_match)|\n",
      "+----------------+----------------------+\n",
      "|      GJ Maxwell|                     3|\n",
      "|       YK Pathan|                     3|\n",
      "|       JH Kallis|                     3|\n",
      "|       JP Duminy|                     3|\n",
      "|    Yuvraj Singh|                     2|\n",
      "|       RG Sharma|                     2|\n",
      "|  Sandeep Sharma|                     2|\n",
      "|    SR Tendulkar|                     2|\n",
      "|     LRPL Taylor|                     2|\n",
      "|       MK Pandey|                     2|\n",
      "|       ML Hayden|                     2|\n",
      "|  M Muralitharan|                     2|\n",
      "|   KC Sangakkara|                     2|\n",
      "|        DR Smith|                     2|\n",
      "|        SK Raina|                     2|\n",
      "|  AB de Villiers|                     2|\n",
      "|DPMD Jayawardene|                     2|\n",
      "|    AC Gilchrist|                     2|\n",
      "|        V Sehwag|                     1|\n",
      "|        R Dravid|                     1|\n",
      "+----------------+----------------------+\n",
      "only showing top 20 rows\n",
      "\n"
     ]
    }
   ],
   "source": [
    "spark.sql(\n",
    "\"\"\"\n",
    "select player_of_match,count(player_of_match) from matches\n",
    "where neutral_venue = 1\n",
    "group by player_of_match\n",
    "order by count(player_of_match) desc \n",
    "\"\"\").show()"
   ]
  },
  {
   "cell_type": "markdown",
   "metadata": {},
   "source": [
    "# Which team has won  the toss most number of times in IPL?"
   ]
  },
  {
   "cell_type": "code",
   "execution_count": 79,
   "metadata": {
    "application/vnd.databricks.v1+cell": {
     "inputWidgets": {},
     "nuid": "92da1897-1206-4a79-b0cc-8214aede0d49",
     "showTitle": false,
     "title": ""
    }
   },
   "outputs": [
    {
     "name": "stdout",
     "output_type": "stream",
     "text": [
      "+--------------------+------------------+\n",
      "|         toss_winner|count(toss_winner)|\n",
      "+--------------------+------------------+\n",
      "|      Mumbai Indians|               106|\n",
      "|Kolkata Knight Ri...|                98|\n",
      "| Chennai Super Kings|                97|\n",
      "|Royal Challengers...|                87|\n",
      "|    Rajasthan Royals|                87|\n",
      "|     Kings XI Punjab|                85|\n",
      "|    Delhi Daredevils|                80|\n",
      "| Sunrisers Hyderabad|                57|\n",
      "|     Deccan Chargers|                43|\n",
      "|       Pune Warriors|                20|\n",
      "|      Delhi Capitals|                20|\n",
      "|       Gujarat Lions|                15|\n",
      "|Kochi Tuskers Kerala|                 8|\n",
      "|Rising Pune Super...|                 7|\n",
      "|Rising Pune Super...|                 6|\n",
      "+--------------------+------------------+\n",
      "\n"
     ]
    }
   ],
   "source": [
    "spark.sql(\n",
    "\"\"\"\n",
    "select toss_winner,count(toss_winner) from matches\n",
    "group by toss_winner\n",
    "order by count(toss_winner) desc \n",
    "\"\"\").show()"
   ]
  },
  {
   "cell_type": "markdown",
   "metadata": {
    "application/vnd.databricks.v1+cell": {
     "inputWidgets": {},
     "nuid": "d4cd05b0-6f74-4596-92a0-1568106aea40",
     "showTitle": false,
     "title": ""
    }
   },
   "source": [
    "# Which player has won most player_of_match awards?"
   ]
  },
  {
   "cell_type": "code",
   "execution_count": 80,
   "metadata": {
    "application/vnd.databricks.v1+cell": {
     "inputWidgets": {},
     "nuid": "60abd1e6-da9b-44c9-af5f-3d63ccdba529",
     "showTitle": false,
     "title": ""
    }
   },
   "outputs": [
    {
     "name": "stdout",
     "output_type": "stream",
     "text": [
      "+---------------+----------------------+\n",
      "|player_of_match|count(player_of_match)|\n",
      "+---------------+----------------------+\n",
      "| AB de Villiers|                    23|\n",
      "|       CH Gayle|                    22|\n",
      "|      RG Sharma|                    18|\n",
      "|      DA Warner|                    17|\n",
      "|       MS Dhoni|                    17|\n",
      "|      YK Pathan|                    16|\n",
      "|      SR Watson|                    16|\n",
      "|       SK Raina|                    14|\n",
      "|        V Kohli|                    13|\n",
      "|      G Gambhir|                    13|\n",
      "|     MEK Hussey|                    12|\n",
      "|      AM Rahane|                    12|\n",
      "|       DR Smith|                    11|\n",
      "|       A Mishra|                    11|\n",
      "|       V Sehwag|                    11|\n",
      "|     KA Pollard|                    11|\n",
      "|     AD Russell|                    11|\n",
      "|      JH Kallis|                    10|\n",
      "|      AT Rayudu|                    10|\n",
      "|      SP Narine|                     9|\n",
      "+---------------+----------------------+\n",
      "only showing top 20 rows\n",
      "\n"
     ]
    }
   ],
   "source": [
    "spark.sql(\n",
    "\"\"\"\n",
    "select player_of_match,count(player_of_match) from matches\n",
    "group by player_of_match\n",
    "order by count(player_of_match) desc \n",
    "\"\"\").show()"
   ]
  },
  {
   "cell_type": "markdown",
   "metadata": {
    "application/vnd.databricks.v1+cell": {
     "inputWidgets": {},
     "nuid": "7a83379f-c165-42f1-a610-efb5ee6b208e",
     "showTitle": false,
     "title": ""
    }
   },
   "source": [
    "# Which team has given highest extra runs  in a match?"
   ]
  },
  {
   "cell_type": "code",
   "execution_count": 81,
   "metadata": {
    "application/vnd.databricks.v1+cell": {
     "inputWidgets": {},
     "nuid": "e0bd905d-ea04-4fb0-9d0a-d156903d309c",
     "showTitle": false,
     "title": ""
    }
   },
   "outputs": [
    {
     "name": "stdout",
     "output_type": "stream",
     "text": [
      "+--------+--------------------+---------------+\n",
      "|match_id|        bowling_team|sum(extra_runs)|\n",
      "+--------+--------------------+---------------+\n",
      "|  335986|     Deccan Chargers|             28|\n",
      "|  501260|Royal Challengers...|             27|\n",
      "|  392227|      Mumbai Indians|             26|\n",
      "|  829811|    Rajasthan Royals|             26|\n",
      "|  336023|Royal Challengers...|             26|\n",
      "|  733983|Royal Challengers...|             25|\n",
      "|  392235|    Delhi Daredevils|             24|\n",
      "|  336028|     Kings XI Punjab|             23|\n",
      "|  501254|     Kings XI Punjab|             23|\n",
      "| 1136591|Royal Challengers...|             23|\n",
      "|  501251|      Mumbai Indians|             22|\n",
      "|  419132|      Mumbai Indians|             21|\n",
      "|  734037|Kolkata Knight Ri...|             21|\n",
      "|  336005| Chennai Super Kings|             21|\n",
      "|  829709|     Kings XI Punjab|             21|\n",
      "|  336024|     Deccan Chargers|             20|\n",
      "|  419153| Chennai Super Kings|             20|\n",
      "| 1178423|     Kings XI Punjab|             20|\n",
      "|  598034| Chennai Super Kings|             20|\n",
      "|  392231|Kolkata Knight Ri...|             20|\n",
      "+--------+--------------------+---------------+\n",
      "only showing top 20 rows\n",
      "\n"
     ]
    }
   ],
   "source": [
    "result_1=df.groupby(['match_id','bowling_team']).sum('extra_runs').sort('sum(extra_runs)',ascending=False)\n",
    "result_1.show()"
   ]
  },
  {
   "cell_type": "markdown",
   "metadata": {
    "application/vnd.databricks.v1+cell": {
     "inputWidgets": {},
     "nuid": "522129e9-941a-46ae-ae46-f1e3553264ff",
     "showTitle": false,
     "title": ""
    }
   },
   "source": [
    "# Write a query to return a report for highest run scorer in matches which were affected by Duckworth-Lewis’s method (D/L method)."
   ]
  },
  {
   "cell_type": "code",
   "execution_count": 82,
   "metadata": {
    "application/vnd.databricks.v1+cell": {
     "inputWidgets": {},
     "nuid": "f27962b9-8ac7-4342-bd81-e290e5333ff9",
     "showTitle": false,
     "title": ""
    }
   },
   "outputs": [],
   "source": [
    "merged=df.join(df1,on='match_id')#merging df and df1 tables "
   ]
  },
  {
   "cell_type": "code",
   "execution_count": 83,
   "metadata": {
    "application/vnd.databricks.v1+cell": {
     "inputWidgets": {},
     "nuid": "e392356e-94be-4256-8d3c-87e7ed2e5951",
     "showTitle": false,
     "title": ""
    }
   },
   "outputs": [],
   "source": [
    "DL=merged[merged['method']=='D/L']#finding all matches which were effected by D/L method\n",
    "sum1=DL.groupBy(['match_id','batsman']).sum('batsman_runs')#finding out total runs scored by every batsman in each match effected by D/L \n",
    "\n"
   ]
  },
  {
   "cell_type": "code",
   "execution_count": 84,
   "metadata": {
    "application/vnd.databricks.v1+cell": {
     "inputWidgets": {},
     "nuid": "bf4bc4bb-e6bf-4356-8c0b-6ce329dc59d3",
     "showTitle": false,
     "title": ""
    }
   },
   "outputs": [
    {
     "name": "stdout",
     "output_type": "stream",
     "text": [
      "+--------+------------+-----------------+----+\n",
      "|match_id|     batsman|sum(batsman_runs)|rank|\n",
      "+--------+------------+-----------------+----+\n",
      "|  501245| S Badrinath|               54|   1|\n",
      "|  829807|MC Henriques|               57|   1|\n",
      "| 1136578|     CA Lynn|               74|   1|\n",
      "|  733993|  KD Karthik|               39|   1|\n",
      "|  392183|    V Sehwag|               38|   1|\n",
      "|  392183|      K Goel|               38|   1|\n",
      "|  336025| Salman Butt|               73|   1|\n",
      "| 1136566|   AM Rahane|               45|   1|\n",
      "|  392186|    CH Gayle|               44|   1|\n",
      "|  336022|    V Sehwag|               51|   1|\n",
      "|  980999|     V Kohli|              113|   1|\n",
      "|  980989|   YK Pathan|               37|   1|\n",
      "| 1136592|     RR Pant|               69|   1|\n",
      "|  829743|   DA Warner|               91|   1|\n",
      "|  980997|   AM Rahane|               42|   1|\n",
      "|  980943|    S Dhawan|               56|   1|\n",
      "|  392214|   ML Hayden|               89|   1|\n",
      "|  501215|    SK Raina|               50|   1|\n",
      "| 1082648|   DA Warner|               37|   1|\n",
      "|  501255|    CH Gayle|               38|   1|\n",
      "+--------+------------+-----------------+----+\n",
      "\n"
     ]
    }
   ],
   "source": [
    "from pyspark.sql.window import Window\n",
    "from pyspark.sql.functions import rank\n",
    "from pyspark.sql.functions import col\n",
    "\n",
    "\n",
    "window = Window.partitionBy('match_id').orderBy(col('sum(batsman_runs)').desc())\n",
    "res_4=sum1.withColumn('rank',rank().over(window))\n",
    "res_4.filter(res_4.rank==1).show()"
   ]
  },
  {
   "cell_type": "markdown",
   "metadata": {
    "application/vnd.databricks.v1+cell": {
     "inputWidgets": {},
     "nuid": "da91fddd-7f03-4734-a584-cbc7cdc97056",
     "showTitle": false,
     "title": ""
    }
   },
   "source": [
    "# Write a query to return a report for highest strike rate by a batsman inpowerplay (1-6 overs)"
   ]
  },
  {
   "cell_type": "code",
   "execution_count": 85,
   "metadata": {
    "application/vnd.databricks.v1+cell": {
     "inputWidgets": {},
     "nuid": "402a96bd-724f-43ef-95df-9c7a474a1d25",
     "showTitle": false,
     "title": ""
    }
   },
   "outputs": [],
   "source": [
    "legal=df[(~df['extras_type'].isin(['wides', 'noballs'])) & (df['overs'].between(0,5)) ]#filtering out wides and no balls, and taking  only powerplay overs(1-6) \n",
    "runs=legal.groupBy('batsman').sum('batsman_runs')#finding out total runs by each batsman\n",
    "ball=legal.groupby('batsman').count()#finding out total balls faced by each batsman\n",
    "balls=ball.withColumnRenamed(\"batsman\",\"batsman_1\")"
   ]
  },
  {
   "cell_type": "code",
   "execution_count": 86,
   "metadata": {
    "application/vnd.databricks.v1+cell": {
     "inputWidgets": {},
     "nuid": "663c94d8-e513-4f60-98cb-fd04076f6128",
     "showTitle": false,
     "title": ""
    }
   },
   "outputs": [
    {
     "name": "stdout",
     "output_type": "stream",
     "text": [
      "+--------------+------------------+\n",
      "|       batsman|       Strike rate|\n",
      "+--------------+------------------+\n",
      "|     KK Cooper|             350.0|\n",
      "|    AUK Pathan|             280.0|\n",
      "|     CH Morris|242.85714285714286|\n",
      "| Shahid Afridi|238.88888888888889|\n",
      "|    AD Russell|             230.0|\n",
      "|     K Gowtham|             200.0|\n",
      "|AD Mascarenhas|             200.0|\n",
      "|   Sunny Singh|             187.5|\n",
      "|     SP Narine|176.56675749318802|\n",
      "|     BJ Haddin|163.63636363636363|\n",
      "+--------------+------------------+\n",
      "only showing top 10 rows\n",
      "\n"
     ]
    }
   ],
   "source": [
    "joined=balls.join(runs, balls.batsman_1 == runs.batsman, 'inner')#In pandas we could  just do strike_rate=runs*100/balls and we could get strike rate. We can't do same in pyspark , so first I will join the two result set and then find the strike rate\n",
    "result_4=joined.withColumn(\"Strike rate\", col(\"sum(batsman_runs)\")*100/col(\"count\")).sort('Strike rate',ascending=False)#Dividing the two columns and getting the strike rate the hard way.\n",
    "result_4.select('batsman','Strike rate').show(10)#Top 10 batsman with highest strike in powerplay"
   ]
  },
  {
   "cell_type": "markdown",
   "metadata": {
    "application/vnd.databricks.v1+cell": {
     "inputWidgets": {},
     "nuid": "0f89ffea-15f9-4662-aa53-0feebebfef12",
     "showTitle": false,
     "title": ""
    }
   },
   "source": [
    "# Write a query to get a list of top 10 players with the highest batting average "
   ]
  },
  {
   "cell_type": "code",
   "execution_count": 87,
   "metadata": {
    "application/vnd.databricks.v1+cell": {
     "inputWidgets": {},
     "nuid": "29509110-c658-4241-aa2b-ebf7ae8e77ab",
     "showTitle": false,
     "title": ""
    }
   },
   "outputs": [],
   "source": [
    "player_dismissed=df.groupby('player_dismissed').count()#Counting number of times a player is dismissed\n",
    "total_runs=df.groupBy('batsman').sum('batsman_runs')\n",
    "joined_data=player_dismissed.join(total_runs, player_dismissed.player_dismissed == total_runs.batsman, 'inner') \n"
   ]
  },
  {
   "cell_type": "code",
   "execution_count": 88,
   "metadata": {
    "application/vnd.databricks.v1+cell": {
     "inputWidgets": {},
     "nuid": "499c2fd0-fc7e-4e83-a36b-54b8df3bb327",
     "showTitle": false,
     "title": ""
    }
   },
   "outputs": [
    {
     "name": "stdout",
     "output_type": "stream",
     "text": [
      "+-------------+------------------+\n",
      "|      batsman|       Batsmen Avg|\n",
      "+-------------+------------------+\n",
      "|   MN van Wyk|55.666666666666664|\n",
      "|   RD Gaikwad|              51.0|\n",
      "|     AC Voges|             45.25|\n",
      "|     KL Rahul| 44.86440677966102|\n",
      "|      HM Amla| 44.38461538461539|\n",
      "|Iqbal Abdulla|              44.0|\n",
      "|    DA Warner| 42.71544715447155|\n",
      "|  JM Bairstow|41.578947368421055|\n",
      "|     CH Gayle| 41.13793103448276|\n",
      "|     MS Dhoni|40.991150442477874|\n",
      "+-------------+------------------+\n",
      "only showing top 10 rows\n",
      "\n"
     ]
    }
   ],
   "source": [
    "result_7=joined_data.withColumn(\"Batsmen Avg\", col(\"sum(batsman_runs)\")/col(\"count\")).sort('Batsmen Avg',ascending=False)#Dividing runs by number of times they have been dismissed\n",
    "result_7.select('batsman','Batsmen Avg').show(10)"
   ]
  },
  {
   "cell_type": "markdown",
   "metadata": {
    "application/vnd.databricks.v1+cell": {
     "inputWidgets": {},
     "nuid": "a8a3d6ab-c69f-43c8-84bd-6a673a3edf0d",
     "showTitle": false,
     "title": ""
    }
   },
   "source": [
    "# Write a query to find out who has officiated (as an umpire) the most number of matches in IPL"
   ]
  },
  {
   "cell_type": "code",
   "execution_count": 89,
   "metadata": {
    "application/vnd.databricks.v1+cell": {
     "inputWidgets": {},
     "nuid": "8a955ea3-440b-4ee8-9290-e3bbc08b2949",
     "showTitle": false,
     "title": ""
    }
   },
   "outputs": [
    {
     "name": "stdout",
     "output_type": "stream",
     "text": [
      "+--------------------+--------+\n",
      "|              umpire|count(1)|\n",
      "+--------------------+--------+\n",
      "|              S Ravi|     121|\n",
      "|     HDPK Dharmasena|      94|\n",
      "|        AK Chaudhary|      87|\n",
      "|       C Shamshuddin|      82|\n",
      "|           M Erasmus|      65|\n",
      "|           CK Nandan|      57|\n",
      "|         Nitin Menon|      57|\n",
      "|          SJA Taufel|      55|\n",
      "|           Asad Rauf|      51|\n",
      "|         VA Kulkarni|      50|\n",
      "|        BNJ Oxenford|      48|\n",
      "|         CB Gaffaney|      47|\n",
      "|           RJ Tucker|      46|\n",
      "|         BR Doctrove|      42|\n",
      "|         RE Koertzen|      41|\n",
      "|           Aleem Dar|      38|\n",
      "|           BF Bowden|      37|\n",
      "|            NJ Llong|      37|\n",
      "|KN Ananthapadmana...|      33|\n",
      "|      RK Illingworth|      31|\n",
      "+--------------------+--------+\n",
      "only showing top 20 rows\n",
      "\n"
     ]
    }
   ],
   "source": [
    "spark.sql(\n",
    "\"\"\"\n",
    "select umpire, count(*)\n",
    "from ((select umpire1 as umpire from matches) union all\n",
    "      (select umpire2 from matches)\n",
    "     ) matches\n",
    "group by umpire\n",
    "order by count(*) desc ;\n",
    "\"\"\").show()\n",
    "#Combing two similar columns by union and counting numbers on times they have officiated"
   ]
  },
  {
   "cell_type": "markdown",
   "metadata": {
    "application/vnd.databricks.v1+cell": {
     "inputWidgets": {},
     "nuid": "61cfbb6b-170e-4ff8-95c9-15c516a69f64",
     "showTitle": false,
     "title": ""
    }
   },
   "source": [
    "# Find venue details of the match where V Kohli scored his highest individual runs in IPL"
   ]
  },
  {
   "cell_type": "code",
   "execution_count": 90,
   "metadata": {
    "application/vnd.databricks.v1+cell": {
     "inputWidgets": {},
     "nuid": "b4ab04fe-0280-46c5-abcd-9f08f79135a0",
     "showTitle": false,
     "title": ""
    }
   },
   "outputs": [
    {
     "name": "stdout",
     "output_type": "stream",
     "text": [
      "+--------+--------------------+-----------+---------------------------------+\n",
      "|match_id|        first(venue)|first(city)|sum(CAST(batsman_runs AS DOUBLE))|\n",
      "+--------+--------------------+-----------+---------------------------------+\n",
      "|  980999|M.Chinnaswamy Sta...|  Bengaluru|                            113.0|\n",
      "+--------+--------------------+-----------+---------------------------------+\n",
      "\n"
     ]
    }
   ],
   "source": [
    "spark.sql(\n",
    "\"\"\"\n",
    "select m.match_id,first(v.venue),first(v.city),sum(b.batsman_runs) from balls as b\n",
    "inner join matches as m on b.match_id=m.match_id\n",
    "inner join venue as v on m.venue_id =v.venue_id\n",
    "where b.batsman= 'V Kohli'\n",
    "group by m.match_id\n",
    "order by sum(b.batsman_runs) desc limit 1; \n",
    "\"\"\").show()\n",
    "#First filtering in matches in which batsman is kohli,grouping by each match and finding total runs by each match and returning them in descending order and limit by 1\n"
   ]
  },
  {
   "cell_type": "markdown",
   "metadata": {},
   "source": [
    "# Which venue has hosted most number of matches?"
   ]
  },
  {
   "cell_type": "code",
   "execution_count": 91,
   "metadata": {},
   "outputs": [
    {
     "name": "stdout",
     "output_type": "stream",
     "text": [
      "+--------------------+---------------+\n",
      "|               venue|count(venue_id)|\n",
      "+--------------------+---------------+\n",
      "|M.Chinnaswamy Sta...|             80|\n",
      "|        Eden Gardens|             77|\n",
      "|    Feroz Shah Kotla|             74|\n",
      "|    Wankhede Stadium|             73|\n",
      "|Rajiv Gandhi Inte...|             64|\n",
      "|MA Chidambaram St...|             57|\n",
      "|Sawai Mansingh St...|             47|\n",
      "|Punjab Cricket As...|             35|\n",
      "|Dubai Internation...|             33|\n",
      "|Sheikh Zayed Stadium|             29|\n",
      "|Maharashtra Crick...|             21|\n",
      "|Punjab Cricket As...|             21|\n",
      "|Sharjah Cricket S...|             18|\n",
      "|Dr DY Patil Sport...|             17|\n",
      "|Subrata Roy Sahar...|             17|\n",
      "|           Kingsmead|             15|\n",
      "|Dr. Y.S. Rajasekh...|             13|\n",
      "|     SuperSport Park|             12|\n",
      "|Sardar Patel Stad...|             12|\n",
      "|   Brabourne Stadium|             11|\n",
      "+--------------------+---------------+\n",
      "only showing top 20 rows\n",
      "\n"
     ]
    }
   ],
   "source": [
    "spark.sql(\n",
    "\"\"\"\n",
    "select b.venue,count(b.venue_id) from matches a\n",
    "inner join venue b on a.venue_id=b.venue_id\n",
    "group by b.venue\n",
    "order by 2 desc;\n",
    "\"\"\").show(20)"
   ]
  },
  {
   "cell_type": "markdown",
   "metadata": {},
   "source": [
    "# Highest scores in which stadium?"
   ]
  },
  {
   "cell_type": "code",
   "execution_count": 92,
   "metadata": {},
   "outputs": [
    {
     "name": "stdout",
     "output_type": "stream",
     "text": [
      "+--------------------+--------+------+-----+\n",
      "|               venue|match_id|inning| Runs|\n",
      "+--------------------+--------+------+-----+\n",
      "|M.Chinnaswamy Sta...|  598027|     1|263.0|\n",
      "|M.Chinnaswamy Sta...|  980987|     1|248.0|\n",
      "|MA Chidambaram St...|  419137|     1|246.0|\n",
      "|Holkar Cricket St...| 1136604|     1|245.0|\n",
      "|Punjab Cricket As...|  335983|     1|240.0|\n",
      "|    Wankhede Stadium|  829795|     1|235.0|\n",
      "|Himachal Pradesh ...|  501260|     1|232.0|\n",
      "|        Eden Gardens| 1178422|     1|232.0|\n",
      "|    Barabati Stadium|  733987|     1|231.0|\n",
      "|Rajiv Gandhi Inte...| 1175366|     1|231.0|\n",
      "|    Feroz Shah Kotla|  501223|     1|231.0|\n",
      "|    Wankhede Stadium| 1082641|     1|230.0|\n",
      "|Sharjah Cricket S...| 1216515|     1|228.0|\n",
      "|M.Chinnaswamy Sta...|  980907|     1|227.0|\n",
      "|    Wankhede Stadium|  734047|     1|226.0|\n",
      "|Sharjah Cricket S...| 1216527|     2|226.0|\n",
      "|M.Chinnaswamy Sta...|  829785|     1|226.0|\n",
      "|MA Chidambaram St...|  419137|     2|223.0|\n",
      "|    Wankhede Stadium| 1082641|     2|223.0|\n",
      "|Rajiv Gandhi Inte...|  598051|     1|223.0|\n",
      "+--------------------+--------+------+-----+\n",
      "only showing top 20 rows\n",
      "\n"
     ]
    }
   ],
   "source": [
    "spark.sql(\n",
    "\"\"\"\n",
    "select c.venue,a.match_id,a.inning,SUM(a.total_runs) AS Runs from balls a \n",
    "inner join matches b on a.match_id=b.match_id\n",
    "inner join venue c on b.venue_id=c.venue_id\n",
    "group by c.venue,a.match_id,a.inning\n",
    "order by Runs desc;\n",
    "\"\"\").show()"
   ]
  },
  {
   "cell_type": "markdown",
   "metadata": {},
   "source": [
    "# Which Venue saw most number of sixes?"
   ]
  },
  {
   "cell_type": "code",
   "execution_count": 93,
   "metadata": {},
   "outputs": [
    {
     "name": "stdout",
     "output_type": "stream",
     "text": [
      "+--------------------+---------------+\n",
      "|               venue|Number_of_Sixes|\n",
      "+--------------------+---------------+\n",
      "|M.Chinnaswamy Sta...|           1114|\n",
      "|    Wankhede Stadium|            898|\n",
      "|        Eden Gardens|            861|\n",
      "|    Feroz Shah Kotla|            834|\n",
      "|Rajiv Gandhi Inte...|            657|\n",
      "|MA Chidambaram St...|            607|\n",
      "|Sawai Mansingh St...|            363|\n",
      "|Dubai Internation...|            358|\n",
      "|Punjab Cricket As...|            307|\n",
      "|Sharjah Cricket S...|            296|\n",
      "|Maharashtra Crick...|            261|\n",
      "|Sheikh Zayed Stadium|            254|\n",
      "|Punjab Cricket As...|            219|\n",
      "|Dr DY Patil Sport...|            173|\n",
      "|Holkar Cricket St...|            155|\n",
      "|Dr. Y.S. Rajasekh...|            154|\n",
      "|Subrata Roy Sahar...|            141|\n",
      "|Sardar Patel Stad...|            130|\n",
      "|           Kingsmead|            130|\n",
      "|     SuperSport Park|            120|\n",
      "+--------------------+---------------+\n",
      "only showing top 20 rows\n",
      "\n"
     ]
    }
   ],
   "source": [
    "spark.sql(\n",
    "\"\"\"\n",
    "select c.venue,count(*) AS Number_of_Sixes from balls a \n",
    "inner join matches b on a.match_id=b.match_id\n",
    "inner join venue c on b.venue_id=c.venue_id\n",
    "where a.batsman_runs = 6\n",
    "group by c.venue\n",
    "order by Number_of_Sixes desc;\n",
    "\"\"\").show()"
   ]
  },
  {
   "cell_type": "markdown",
   "metadata": {},
   "source": [
    "# Which Venue saw most number of fours?"
   ]
  },
  {
   "cell_type": "code",
   "execution_count": 94,
   "metadata": {},
   "outputs": [
    {
     "name": "stdout",
     "output_type": "stream",
     "text": [
      "+--------------------+---------------+\n",
      "|               venue|Number_of_Sixes|\n",
      "+--------------------+---------------+\n",
      "|        Eden Gardens|           2175|\n",
      "|M.Chinnaswamy Sta...|           2152|\n",
      "|    Wankhede Stadium|           2095|\n",
      "|    Feroz Shah Kotla|           2026|\n",
      "|Rajiv Gandhi Inte...|           1661|\n",
      "|MA Chidambaram St...|           1444|\n",
      "|Sawai Mansingh St...|           1349|\n",
      "|Punjab Cricket As...|           1040|\n",
      "|Dubai Internation...|            851|\n",
      "|Sheikh Zayed Stadium|            781|\n",
      "|Punjab Cricket As...|            628|\n",
      "|Maharashtra Crick...|            552|\n",
      "|Sharjah Cricket S...|            415|\n",
      "|Dr DY Patil Sport...|            390|\n",
      "|Subrata Roy Sahar...|            382|\n",
      "|   Brabourne Stadium|            361|\n",
      "|           Kingsmead|            361|\n",
      "|     SuperSport Park|            318|\n",
      "|Saurashtra Cricke...|            305|\n",
      "|Sardar Patel Stad...|            302|\n",
      "+--------------------+---------------+\n",
      "only showing top 20 rows\n",
      "\n"
     ]
    }
   ],
   "source": [
    "spark.sql(\n",
    "\"\"\"\n",
    "select c.venue,count(*) AS Number_of_Sixes from balls a \n",
    "inner join matches b on a.match_id=b.match_id\n",
    "inner join venue c on b.venue_id=c.venue_id\n",
    "where a.batsman_runs = 4\n",
    "group by c.venue\n",
    "order by Number_of_Sixes desc;\n",
    "\"\"\").show()"
   ]
  },
  {
   "cell_type": "markdown",
   "metadata": {},
   "source": [
    "# Top run getters in each stadium"
   ]
  },
  {
   "cell_type": "code",
   "execution_count": 95,
   "metadata": {},
   "outputs": [
    {
     "name": "stdout",
     "output_type": "stream",
     "text": [
      "+--------------------+----------------+-----------------+----+\n",
      "|               venue|         batsman|sum(batsman_runs)|rank|\n",
      "+--------------------+----------------+-----------------+----+\n",
      "|Dubai Internation...|        KL Rahul|              392|   1|\n",
      "|Himachal Pradesh ...|        SE Marsh|              334|   1|\n",
      "|Sardar Patel Stad...|       AM Rahane|              308|   1|\n",
      "|Punjab Cricket As...|        SE Marsh|              806|   1|\n",
      "|    Barabati Stadium|      RV Uthappa|              152|   1|\n",
      "|Punjab Cricket As...|        KL Rahul|              448|   1|\n",
      "|       Nehru Stadium|DPMD Jayawardene|              111|   1|\n",
      "|Maharashtra Crick...|       SPD Smith|              452|   1|\n",
      "|        Eden Gardens|       G Gambhir|             1407|   1|\n",
      "|     OUTsurance Oval|  AB de Villiers|               90|   1|\n",
      "|    Feroz Shah Kotla|        V Sehwag|              933|   1|\n",
      "|Rajiv Gandhi Inte...|       DA Warner|             1602|   1|\n",
      "|   Brabourne Stadium|    SR Tendulkar|              261|   1|\n",
      "|M.Chinnaswamy Sta...|         V Kohli|             2346|   1|\n",
      "|Vidarbha Cricket ...|       RG Sharma|              132|   1|\n",
      "|          Green Park|        SK Raina|              119|   1|\n",
      "|Holkar Cricket St...|        KL Rahul|              195|   1|\n",
      "|Shaheed Veer Nara...|       DA Warner|              207|   1|\n",
      "|Sharjah Cricket S...|       SV Samson|              216|   1|\n",
      "|Sheikh Zayed Stadium|        SA Yadav|              413|   1|\n",
      "|    St George's Park|       JP Duminy|              139|   1|\n",
      "|    Wankhede Stadium|       RG Sharma|             1733|   1|\n",
      "+--------------------+----------------+-----------------+----+\n",
      "only showing top 22 rows\n",
      "\n"
     ]
    }
   ],
   "source": [
    "final_join=join_main.join(df2,on=\"venue_id\")\n",
    "v_high=final_join.groupby('venue','batsman').sum('batsman_runs')\n",
    "\n",
    "\n",
    "window_5 = Window.partitionBy('venue').orderBy(col('sum(batsman_runs)').desc())\n",
    "res_42=v_high.withColumn('rank',rank().over(window_5))\n",
    "venue_scorer=res_42[res_42['rank']==1]\n",
    "venue_scorer.show(22)"
   ]
  },
  {
   "cell_type": "markdown",
   "metadata": {},
   "source": [
    "# Most wickets in each stadium?"
   ]
  },
  {
   "cell_type": "code",
   "execution_count": 96,
   "metadata": {},
   "outputs": [
    {
     "name": "stdout",
     "output_type": "stream",
     "text": [
      "+--------------------+--------------+--------------+----+\n",
      "|               venue|        bowler|sum(is_wicket)|rank|\n",
      "+--------------------+--------------+--------------+----+\n",
      "|    Wankhede Stadium|    SL Malinga|            73|   1|\n",
      "|        Eden Gardens|     SP Narine|            61|   1|\n",
      "|    Feroz Shah Kotla|      A Mishra|            60|   1|\n",
      "|M.Chinnaswamy Sta...|     YS Chahal|            52|   1|\n",
      "|MA Chidambaram St...|      R Ashwin|            50|   1|\n",
      "|MA Chidambaram St...|      DJ Bravo|            50|   1|\n",
      "|Sawai Mansingh St...|    SK Trivedi|            41|   1|\n",
      "|Rajiv Gandhi Inte...|       B Kumar|            40|   1|\n",
      "|Punjab Cricket As...|     PP Chawla|            24|   1|\n",
      "|Punjab Cricket As...|Sandeep Sharma|            17|   1|\n",
      "|Maharashtra Crick...|   Imran Tahir|            16|   1|\n",
      "|Dubai Internation...|     YS Chahal|            13|   1|\n",
      "|Subrata Roy Sahar...|      R Sharma|            13|   1|\n",
      "|Himachal Pradesh ...|     PP Chawla|            13|   1|\n",
      "|Dubai Internation...|      K Rabada|            13|   1|\n",
      "|Sheikh Zayed Stadium|     JJ Bumrah|            13|   1|\n",
      "|Subrata Roy Sahar...|       B Kumar|            13|   1|\n",
      "|Dubai Internation...|      R Ashwin|            13|   1|\n",
      "|Sharjah Cricket S...|Mohammed Shami|            11|   1|\n",
      "|           Kingsmead|     IK Pathan|            11|   1|\n",
      "|   Brabourne Stadium|        Z Khan|            10|   1|\n",
      "|Dr. Y.S. Rajasekh...|       A Zampa|            10|   1|\n",
      "|JSCA Internationa...|     RA Jadeja|             9|   1|\n",
      "|Dr DY Patil Sport...|    SL Malinga|             9|   1|\n",
      "|       Nehru Stadium| R Vinay Kumar|             9|   1|\n",
      "|Dr DY Patil Sport...|  DE Bollinger|             9|   1|\n",
      "|Holkar Cricket St...|        AJ Tye|             8|   1|\n",
      "|     SuperSport Park|      RP Singh|             8|   1|\n",
      "|            Newlands|   Kamran Khan|             8|   1|\n",
      "|Sardar Patel Stad...|      PV Tambe|             8|   1|\n",
      "|Vidarbha Cricket ...|     RJ Harris|             8|   1|\n",
      "|Saurashtra Cricke...|     RA Jadeja|             7|   1|\n",
      "|Saurashtra Cricke...|        AJ Tye|             7|   1|\n",
      "|New Wanderers Sta...|      A Kumble|             6|   1|\n",
      "|          Green Park|      DR Smith|             6|   1|\n",
      "|De Beers Diamond ...|     RG Sharma|             6|   1|\n",
      "|New Wanderers Sta...|       A Nehra|             6|   1|\n",
      "|New Wanderers Sta...|     DP Nannes|             6|   1|\n",
      "|New Wanderers Sta...|     A Symonds|             6|   1|\n",
      "|    Barabati Stadium|    WPUJC Vaas|             5|   1|\n",
      "+--------------------+--------------+--------------+----+\n",
      "only showing top 40 rows\n",
      "\n"
     ]
    }
   ],
   "source": [
    "v_wick=final_join.groupby('venue','bowler').sum('is_wicket')\n",
    "\n",
    "\n",
    "window_6 = Window.partitionBy('venue').orderBy(col('sum(is_wicket)').desc())\n",
    "res_43=v_wick.withColumn('rank',rank().over(window_6))\n",
    "venue_wicket=res_43[res_43['rank']==1].sort('sum(is_wicket)',ascending=False)\n",
    "venue_wicket.show(40)"
   ]
  }
 ],
 "metadata": {
  "application/vnd.databricks.v1+notebook": {
   "dashboards": [
    {
     "elements": [],
     "globalVars": {},
     "guid": "08328240-bdd6-4315-bca2-dc43e12a398b",
     "layoutOption": {
      "grid": true,
      "stack": true
     },
     "nuid": "36952a3f-993b-4bca-80ca-78e9afbef867",
     "origId": 270559289353765,
     "title": "Untitled",
     "version": "DashboardViewV1",
     "width": 1024
    }
   ],
   "language": "python",
   "notebookMetadata": {
    "pythonIndentUnit": 2
   },
   "notebookName": "Ebrahim Angolkar",
   "notebookOrigID": 2308165318733086,
   "widgets": {}
  },
  "kernelspec": {
   "display_name": "Python 3",
   "language": "python",
   "name": "python3"
  },
  "language_info": {
   "codemirror_mode": {
    "name": "ipython",
    "version": 3
   },
   "file_extension": ".py",
   "mimetype": "text/x-python",
   "name": "python",
   "nbconvert_exporter": "python",
   "pygments_lexer": "ipython3",
   "version": "3.8.5"
  }
 },
 "nbformat": 4,
 "nbformat_minor": 1
}
